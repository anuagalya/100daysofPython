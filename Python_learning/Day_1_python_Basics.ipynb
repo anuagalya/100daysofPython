{
 "cells": [
  {
   "cell_type": "markdown",
   "id": "aed45bb1",
   "metadata": {},
   "source": [
    "'''\n",
    "1. take input from user cost price and selling price and find if its profit/loss or no profit no loss\n",
    "along with amounts of profit/loss\n",
    "hint. use if elif else kind of loop\n",
    "\n",
    "2. take input from user base and height of right angle triangle and find hypoteneous of triangle\n",
    "3. take input principle, rate and time from user and find simple interest\n",
    "4. take input from user distance and speed and find time of travel\n",
    "5. take input from user length and breadth of rectangle and find area and perimeter\n",
    "6. take input from user and print square root and cube root upto 3 decimal places\n",
    "7. take input from user any number and find factorial of a number (hint use math library)"
   ]
  },
  {
   "cell_type": "code",
   "execution_count": 6,
   "id": "d0905d9c",
   "metadata": {},
   "outputs": [
    {
     "name": "stdout",
     "output_type": "stream",
     "text": [
      "Enter cp : 10\n",
      "Enter sp : 20\n",
      "Hence, the loss is 10\n"
     ]
    }
   ],
   "source": [
    "#take input from user cost price and selling price and find if its profit/loss or no profit no loss along with amounts of profit/loss hint. use if elif else kind of loop\n",
    "Cost_price = int(input(\"Enter cp : \"))\n",
    "selling_price = int(input(\"Enter sp : \"))\n",
    "if Cost_price == selling_price:\n",
    "    print(\"No profit/No loss\")\n",
    "elif Cost_price > selling_price:\n",
    "    print(\"Hence, the loss is \"+ str(Cost_price - selling_price))\n",
    "elif Cost_price < selling_price:\n",
    "    print(\"Hence, the profit is \"+ str(selling_price-Cost_price))\n",
    "else :\n",
    "    print(\"No value entered/Give proper amounts\")"
   ]
  },
  {
   "cell_type": "code",
   "execution_count": 14,
   "id": "5b5a96f9",
   "metadata": {},
   "outputs": [
    {
     "name": "stdout",
     "output_type": "stream",
     "text": [
      "Enter cost price 0\n",
      "Enter selling price -1\n",
      "There is a loss of  -1\n"
     ]
    }
   ],
   "source": [
    "cost_price=int(input(\"Enter cost price \"))\n",
    "selling_price=int(input(\"Enter selling price \"))\n",
    "cal=selling_price-cost_price\n",
    "if cal>0:\n",
    "    print(\"There is a profit of \", cal)\n",
    "elif cal<0:\n",
    "    print(\"There is a loss of \", cal)\n",
    "else:\n",
    "    print(\"There is no profit or loss\")"
   ]
  },
  {
   "cell_type": "code",
   "execution_count": 20,
   "id": "4ba5bdfc",
   "metadata": {},
   "outputs": [
    {
     "name": "stdout",
     "output_type": "stream",
     "text": [
      "Enter base 10\n",
      "Enter height 10\n",
      "14.142135623730951\n"
     ]
    }
   ],
   "source": [
    "#take input from user base and height of right angle triangle and find hypoteneous of triangle\n",
    "import numpy as np\n",
    "from math import pow\n",
    "base=int(input(\"Enter base \"))\n",
    "height=int(input(\"Enter height \"))\n",
    "hyp = np.sqrt((pow(base,2))+(height**2))\n",
    "print(hyp)"
   ]
  },
  {
   "cell_type": "code",
   "execution_count": 1,
   "id": "07ad3cb0",
   "metadata": {},
   "outputs": [
    {
     "name": "stdout",
     "output_type": "stream",
     "text": [
      "Principle amount : 10000\n",
      "rate of interest percentage: 3\n",
      " time : 1\n",
      "Rs. 300.0\n"
     ]
    }
   ],
   "source": [
    "#take input principle, rate and time from user and find simple interest\n",
    "principle = int(input(\"Principle amount : \"))\n",
    "rate = int(input(\"rate of interest percentage: \"))\n",
    "time = int(input(\" time : \"))\n",
    "simple_interest = (principle*time*rate)/100\n",
    "print(\"The simple interest is Rs.\", simple_interest)"
   ]
  },
  {
   "cell_type": "code",
   "execution_count": 24,
   "id": "c63ac2dc",
   "metadata": {},
   "outputs": [
    {
     "name": "stdout",
     "output_type": "stream",
     "text": [
      "Enter distance 120\n",
      "Enter speed 60\n",
      "2.0 hr\n"
     ]
    }
   ],
   "source": [
    "#take input from user distance and speed and find time of travel\n",
    "distance=int(input(\"Enter distance \"))\n",
    "speed=int(input(\"Enter speed \"))\n",
    "time = distance/speed\n",
    "print(time,\"hr\")"
   ]
  },
  {
   "cell_type": "code",
   "execution_count": 1,
   "id": "baf43dcf",
   "metadata": {},
   "outputs": [
    {
     "name": "stdout",
     "output_type": "stream",
     "text": [
      "Enter length 10\n",
      "Enter breadth 10\n",
      "Area of a rectangle is  100  and perimeter of a rectangle is  40\n"
     ]
    }
   ],
   "source": [
    "#take input from user length and breadth of rectangle and find area and perimeter\n",
    "length=int(input(\"Enter length \"))\n",
    "breadth=int(input(\"Enter breadth \"))\n",
    "Area = length * breadth\n",
    "perimeter =  2*(length + breadth)\n",
    "print(\"Area of a rectangle is \",Area, \" and perimeter of a rectangle is \", perimeter)"
   ]
  },
  {
   "cell_type": "code",
   "execution_count": 3,
   "id": "8c3f8f7f",
   "metadata": {},
   "outputs": [
    {
     "name": "stdout",
     "output_type": "stream",
     "text": [
      "Enter value 512\n",
      "square root of  512  is  22.627  and cube root of  512  is  8.0 .\n"
     ]
    }
   ],
   "source": [
    "#take input from user and print square root and cube root upto 3 decimal places\n",
    "import numpy as np\n",
    "val=int(input(\"Enter value \"))\n",
    "square_root = round(np.sqrt(val),3)\n",
    "cube_root = round(np.cbrt(val),3)\n",
    "print(\"square root of \", val , \" is \",square_root, \" and cube root of \", val , \" is \",cube_root, \".\")"
   ]
  },
  {
   "cell_type": "code",
   "execution_count": 4,
   "id": "fc6714fd",
   "metadata": {},
   "outputs": [
    {
     "name": "stdout",
     "output_type": "stream",
     "text": [
      "Enter value 5\n",
      "120\n"
     ]
    }
   ],
   "source": [
    "#take input from user any number and find factorial of a number (hint use math library)\n",
    "import math\n",
    "val=int(input(\"Enter value \"))\n",
    "factorial = math.factorial(val)\n",
    "print(factorial)"
   ]
  },
  {
   "cell_type": "code",
   "execution_count": null,
   "id": "8e28b2ae",
   "metadata": {},
   "outputs": [],
   "source": [
    "a=5\n",
    "print(a)"
   ]
  },
  {
   "cell_type": "code",
   "execution_count": null,
   "id": "0fa2b5f4",
   "metadata": {},
   "outputs": [],
   "source": []
  }
 ],
 "metadata": {
  "kernelspec": {
   "display_name": "Python 3",
   "language": "python",
   "name": "python3"
  },
  "language_info": {
   "codemirror_mode": {
    "name": "ipython",
    "version": 3
   },
   "file_extension": ".py",
   "mimetype": "text/x-python",
   "name": "python",
   "nbconvert_exporter": "python",
   "pygments_lexer": "ipython3",
   "version": "3.8.8"
  }
 },
 "nbformat": 4,
 "nbformat_minor": 5
}
