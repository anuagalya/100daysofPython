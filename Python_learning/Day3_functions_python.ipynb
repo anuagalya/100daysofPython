{
 "cells": [
  {
   "cell_type": "code",
   "execution_count": 7,
   "id": "f278fc47",
   "metadata": {},
   "outputs": [
    {
     "data": {
      "text/plain": [
       "'\\nwrite a guesing game program\\ntake input \\nwrite a guesing game program\\ntake input from user any number. if number is between 1 and 21 user wins the game\\nuser should get max 3 chance to enter right number. if all attempts fails print failure\\nat any point of time user enters right number print success\\nDO NOT PRINT OR RETURN ANYTHING FROM THIS FUNCTION\\nFINAL SUCCESS/FAILURE SHOULD BE PRINTED FROM MAIN '"
      ]
     },
     "execution_count": 7,
     "metadata": {},
     "output_type": "execute_result"
    }
   ],
   "source": [
    "\"\"\"write a function to take input cost price and selling price and return to main\n",
    "in another function, find if its profit/loss / no profit no loss along with amounts\n",
    "print  profit/loss / no profit no loss along with amounts in main and not in any function\n",
    " \"\"\"\n",
    " \n",
    "\"\"\"take input from user first name and last name and concatenate to full name\n",
    "in another function count all upper letters and lower letters in full name and return to main\n",
    "print ans there\"\"\"\n",
    "\n",
    "'''\n",
    "write a guesing game program\n",
    "take input \n",
    "write a guesing game program\n",
    "take input from user any number. if number is between 1 and 21 user wins the game\n",
    "user should get max 3 chance to enter right number. if all attempts fails print failure\n",
    "at any point of time user enters right number print success\n",
    "DO NOT PRINT OR RETURN ANYTHING FROM THIS FUNCTION\n",
    "FINAL SUCCESS/FAILURE SHOULD BE PRINTED FROM MAIN '''\n"
   ]
  },
  {
   "cell_type": "code",
   "execution_count": 6,
   "id": "8d614ffb",
   "metadata": {},
   "outputs": [
    {
     "name": "stdout",
     "output_type": "stream",
     "text": [
      "Enter cp : 10\n",
      "Enter sp : 10\n",
      "No profit/No loss\n"
     ]
    }
   ],
   "source": [
    "#write a function to take input cost price and selling price and return to main\n",
    "#in another function, find if its profit/loss / no profit no loss along with amounts\n",
    "#print  profit/loss / no profit no loss along with amounts in main and not in any function\n",
    "\n",
    "def user_input():\n",
    "    Cost_price = int(input(\"Enter cp : \"))\n",
    "    selling_price = int(input(\"Enter sp : \"))\n",
    "    return Cost_price,selling_price\n",
    "\n",
    "def calc(Cost_price,selling_price):\n",
    "    if Cost_price == selling_price:\n",
    "        res = \"No profit/No loss\"\n",
    "    elif Cost_price > selling_price:\n",
    "         res = \"Hence, the loss is \"+ str(Cost_price - selling_price)\n",
    "    elif Cost_price < selling_price:\n",
    "         res = \"Hence, the profit is \"+ str(selling_price-Cost_price)\n",
    "    else :\n",
    "         res = \"No value entered/Give proper amounts\"\n",
    "    return res\n",
    "\n",
    "Cost_price,selling_price=user_input()\n",
    "final_calc = calc(Cost_price,selling_price)\n",
    "print(final_calc)"
   ]
  },
  {
   "cell_type": "code",
   "execution_count": 11,
   "id": "b405d01b",
   "metadata": {},
   "outputs": [
    {
     "name": "stdout",
     "output_type": "stream",
     "text": [
      "Enter First name : Anu\n",
      "Enter last name : Agalya\n",
      "number of upper case letters in full name  2  and  number of lower case letters in full name  7\n"
     ]
    }
   ],
   "source": [
    "\"\"\"take input from user first name and last name and concatenate to full name\n",
    "in another function count all upper letters and lower letters in full name and return to main\n",
    "print ans there\"\"\"\n",
    "\n",
    "def char_count(a):\n",
    "    ctr1 = 0  \n",
    "    ctr2 = 0  \n",
    "    for i in a:\n",
    "        if i.isupper():\n",
    "            ctr1=ctr1+1\n",
    "        if i.islower():\n",
    "            ctr2=ctr2+1\n",
    "    return ctr1, ctr2    \n",
    "    \n",
    "\n",
    "fn = str(input(\"Enter First name : \"))\n",
    "ln = str(input(\"Enter last name : \"))\n",
    "full_name = fn+\" \" +ln\n",
    "uc,lc = char_count(full_name)\n",
    "print(\"number of upper case letters in full name \", uc, \" and \", \"number of lower case letters in full name \",lc)\n"
   ]
  },
  {
   "cell_type": "code",
   "execution_count": 8,
   "id": "5f57951a",
   "metadata": {},
   "outputs": [
    {
     "name": "stdout",
     "output_type": "stream",
     "text": [
      "Enter value : 100\n",
      "Enter value : 1000\n",
      "Enter value : 199\n",
      "fail\n"
     ]
    }
   ],
   "source": [
    "'''\n",
    "write a guesing game program\n",
    "take input from user any number. if number is between 1 and 21 user wins the game\n",
    "user should get max 3 chance to enter right number. if all attempts fails print failure\n",
    "at any point of time user enters right number print success\n",
    "DO NOT PRINT OR RETURN ANYTHING FROM THIS FUNCTION\n",
    "FINAL SUCCESS/FAILURE SHOULD BE PRINTED FROM MAIN '''\n",
    "\n",
    "def value():\n",
    "    value = int(input(\"Enter value : \"))\n",
    "    return value\n",
    "\n",
    "i=1\n",
    "res=\"fail\"\n",
    "while i<=3:\n",
    "    val = value()\n",
    "    if val>=1 and val<=21:\n",
    "        res = \"win\"\n",
    "        break\n",
    "    i=i+1\n",
    "if res == \"win\":\n",
    "    print(\"Success\")\n",
    "else:\n",
    "    print(\"fail\")\n",
    "\n"
   ]
  },
  {
   "cell_type": "code",
   "execution_count": 9,
   "id": "ce3bf942",
   "metadata": {},
   "outputs": [
    {
     "name": "stdout",
     "output_type": "stream",
     "text": [
      "Attempt :-  1\n",
      "Enter Number : 9\n",
      "SUCCESS\n"
     ]
    }
   ],
   "source": [
    "result = \"FAILURE\"\n",
    "def userinputs():\n",
    "    global result\n",
    "    count=1\n",
    "    while(count <= 3 and result == \"FAILURE\"):\n",
    "        print(\"Attempt :- \", count)\n",
    "        intnum = int(input(\"Enter Number : \"))\n",
    "        if(intnum>0 and intnum<22):\n",
    "            result = \"SUCCESS\"\n",
    "        count+=1\n",
    "userinputs()\n",
    "if result=='FAILURE':\n",
    "    print(\"all attempts exhausted -- FAILURE\")\n",
    "    \n",
    "    \n",
    "else:\n",
    "    print(result)"
   ]
  },
  {
   "cell_type": "code",
   "execution_count": null,
   "id": "371e7ff8",
   "metadata": {},
   "outputs": [],
   "source": []
  }
 ],
 "metadata": {
  "kernelspec": {
   "display_name": "Python 3",
   "language": "python",
   "name": "python3"
  },
  "language_info": {
   "codemirror_mode": {
    "name": "ipython",
    "version": 3
   },
   "file_extension": ".py",
   "mimetype": "text/x-python",
   "name": "python",
   "nbconvert_exporter": "python",
   "pygments_lexer": "ipython3",
   "version": "3.8.8"
  }
 },
 "nbformat": 4,
 "nbformat_minor": 5
}
