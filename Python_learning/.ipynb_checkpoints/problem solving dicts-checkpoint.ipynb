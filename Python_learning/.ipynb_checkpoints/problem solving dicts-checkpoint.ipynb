{
 "cells": [
  {
   "cell_type": "code",
   "execution_count": 1,
   "id": "75113ced",
   "metadata": {},
   "outputs": [
    {
     "data": {
      "text/plain": [
       "'Key in the Date of Birth Format\\nKey in 1 for DD-MM-YY or DD/MM/YY\\nKey in 2 for MM-DD-YY or MM/DD/YY\\nKey in 3 for DD-MM-YYYY or DD/MM/YYYY\\nKey in 4 for MM-DD-YYYY or MM/DD/YYYY\\nFormat: 4\\nDOB: 05-03-1987\\n05-03-1987\\n4\\nday of the week  Sunday\\nNot a leap year\\nnumber of years elapsed :  35 years 1 months 26 days\\nNext birthday will be on :  2023-05-03\\nDay of the week next year will be :  Wednesday\\nSeconds elapsed from DOB:  39754\\nMinutes elapsed from DOB:  662\\nDays elapsed from DOB:  12841\\nThird May One Thousand Nine Hundred Eighty Seven\\nAdult'"
      ]
     },
     "execution_count": 1,
     "metadata": {},
     "output_type": "execute_result"
    }
   ],
   "source": [
    "\"\"\"Key in the Date of Birth Format\n",
    "Key in 1 for DD-MM-YY or DD/MM/YY\n",
    "Key in 2 for MM-DD-YY or MM/DD/YY\n",
    "Key in 3 for DD-MM-YYYY or DD/MM/YYYY\n",
    "Key in 4 for MM-DD-YYYY or MM/DD/YYYY\n",
    "Format: 4\n",
    "DOB: 05-03-1987\n",
    "05-03-1987\n",
    "4\n",
    "day of the week  Sunday\n",
    "Not a leap year\n",
    "number of years elapsed :  35 years 1 months 26 days\n",
    "Next birthday will be on :  2023-05-03\n",
    "Day of the week next year will be :  Wednesday\n",
    "Seconds elapsed from DOB:  39754\n",
    "Minutes elapsed from DOB:  662\n",
    "Days elapsed from DOB:  12841\n",
    "Third May One Thousand Nine Hundred Eighty Seven\n",
    "Adult\"\"\""
   ]
  },
  {
   "cell_type": "code",
   "execution_count": 14,
   "id": "2374f713",
   "metadata": {},
   "outputs": [
    {
     "name": "stdout",
     "output_type": "stream",
     "text": [
      "Enter Key in the Date of Birth Format \n",
      " Key in 1 for DD-MM-YY or DD/MM/YY \n",
      " Key in 2 for MM-DD-YY or MM/DD/YY \n",
      " Key in 3 for DD-MM-YYYY or DD/MM/YYYY \n",
      " Key in 4 for MM-DD-YYYY or MM/DD/YYYY \n",
      " : 3\n",
      "Enter dob in the selected format : 01-11-1993\n",
      "1993-11-01\n",
      "29\n",
      "Monday\n"
     ]
    }
   ],
   "source": [
    "import datetime\n",
    "import calendar\n",
    "input_format = int(input(\"Enter Key in the Date of Birth Format \\n Key in 1 for DD-MM-YY or DD/MM/YY \\n Key in 2 for MM-DD-YY or MM/DD/YY \\n Key in 3 for DD-MM-YYYY or DD/MM/YYYY \\n Key in 4 for MM-DD-YYYY or MM/DD/YYYY \\n : \"))\n",
    "date = str(input(\"Enter dob in the selected format : \"))\n",
    "def findDay(date,input_format):\n",
    "    if input_format ==3:\n",
    "        day, month, year = (int(i) for i in date.split(' '))\n",
    "        born = datetime.date(year, month, day)\n",
    "        print(born)\n",
    "        from datetime import date\n",
    "        today = date.today()\n",
    "        print(int(str(today)[0:4])-int(year))\n",
    "    if input_format ==1:\n",
    "        day, month, year = (int(i) for i in date.split(' '))   \n",
    "        year = 1900+year\n",
    "        born = datetime.date(year, month, day)\n",
    "        print(born)\n",
    "    if input_format ==2:\n",
    "        month, day, year = (int(i) for i in date.split(' '))  \n",
    "        year = 1900+year\n",
    "        born = datetime.date(year, month, day)\n",
    "        print(born)\n",
    "    if input_format ==4:\n",
    "        month, day, year = (int(i) for i in date.split(' '))   \n",
    "        born = datetime.date(year, month, day)\n",
    "        print(born)       \n",
    "    return born.strftime(\"%A\")\n",
    "\n",
    "def date_formatting(date):\n",
    "    l=\"\"\n",
    "    for i in date:\n",
    "        if i.isdigit():\n",
    "            l += i\n",
    "        else :\n",
    "            l += \" \"\n",
    "    return l\n",
    "\n",
    "if input_format == 3:\n",
    "    date = date_formatting(date)\n",
    "    day = findDay(date,input_format)\n",
    "    print(day)\n",
    "    \n",
    "if input_format == 1:\n",
    "    date = date_formatting(date)\n",
    "    day = findDay(date,input_format)\n",
    "    print(day)\n",
    "    \n",
    "if input_format == 2:\n",
    "    date = date_formatting(date)\n",
    "    day = findDay(date,input_format)\n",
    "    print(day)\n",
    "\n",
    "if input_format == 4:\n",
    "    date = date_formatting(date)\n",
    "    day = findDay(date,input_format)\n",
    "    print(day)"
   ]
  },
  {
   "cell_type": "code",
   "execution_count": 5,
   "id": "219474ae",
   "metadata": {},
   "outputs": [
    {
     "name": "stdout",
     "output_type": "stream",
     "text": [
      "Today's date: 2022\n"
     ]
    }
   ],
   "source": [
    "from datetime import date\n",
    "\n",
    "today = date.today()\n",
    "print(\"Today's date:\", str(today)[0:4])"
   ]
  },
  {
   "cell_type": "code",
   "execution_count": 15,
   "id": "f5b913dd",
   "metadata": {},
   "outputs": [
    {
     "data": {
      "text/plain": [
       "\"your dictionary should look like this\\nd={101:'AMIT', 102:'Sumit', 103:'amit', 104:'SUMAN'}\\n\\nonce dictionary is created in another function ask user emp id and print name of employee. if emp id does not exist\\ntrap an exception and print employee not found\\n\\nin another function ask user emp name and create a list of emp ids having that name\\neg if user enters amit, we should get [101,103]\\n\\nsearch of name should be case insensitive\""
      ]
     },
     "execution_count": 15,
     "metadata": {},
     "output_type": "execute_result"
    }
   ],
   "source": [
    "\"\"\"your dictionary should look like this\n",
    "d={101:'AMIT', 102:'Sumit', 103:'amit', 104:'SUMAN'}\n",
    "\n",
    "once dictionary is created in another function ask user emp id and print name of employee. if emp id does not exist\n",
    "trap an exception and print employee not found\n",
    "\n",
    "in another function ask user emp name and create a list of emp ids having that name\n",
    "eg if user enters amit, we should get [101,103]\n",
    "\n",
    "search of name should be case insensitive\"\"\""
   ]
  },
  {
   "cell_type": "code",
   "execution_count": 38,
   "id": "ccad87d4",
   "metadata": {},
   "outputs": [
    {
     "name": "stdout",
     "output_type": "stream",
     "text": [
      "[101, 102, 103, 104]\n",
      "<class 'list'>\n",
      "['AMIT', 'Sumit', 'amit', 'SUMAN']\n",
      "Enter inp: 0\n",
      "Employee not exist\n",
      "0\n"
     ]
    }
   ],
   "source": [
    "d={101:'AMIT', 102:'Sumit', 103:'amit', 104:'SUMAN'}\n",
    "key_l= d.keys()\n",
    "key_list = []\n",
    "for key in key_l:\n",
    "    key_list.append(key)\n",
    "print(key_list)\n",
    "print(type(key_list))\n",
    "val_l = d.values()\n",
    "val_list = []\n",
    "for val in val_l:\n",
    "    val_list.append(val)\n",
    "print(val_list)\n",
    "def inputu():\n",
    "    try:\n",
    "        user_inp = int(input(\"Enter inp: \"))\n",
    "        if user_inp in key_list:\n",
    "            value = key_list.index(user_inp)\n",
    "            print(\"Employee exist\")\n",
    "            print(val_list[value])\n",
    "        else:\n",
    "            raise Exception\n",
    "    except Exception:\n",
    "        print(\"Employee not exist\")        \n",
    "    return user_inp\n",
    "inp = inputu()\n",
    "print(inp)"
   ]
  },
  {
   "cell_type": "code",
   "execution_count": null,
   "id": "62bd1b16",
   "metadata": {},
   "outputs": [],
   "source": []
  }
 ],
 "metadata": {
  "kernelspec": {
   "display_name": "Python 3",
   "language": "python",
   "name": "python3"
  },
  "language_info": {
   "codemirror_mode": {
    "name": "ipython",
    "version": 3
   },
   "file_extension": ".py",
   "mimetype": "text/x-python",
   "name": "python",
   "nbconvert_exporter": "python",
   "pygments_lexer": "ipython3",
   "version": "3.8.8"
  }
 },
 "nbformat": 4,
 "nbformat_minor": 5
}
