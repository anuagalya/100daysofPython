{
 "cells": [
  {
   "cell_type": "code",
   "execution_count": 47,
   "id": "cd55e7a2",
   "metadata": {},
   "outputs": [
    {
     "name": "stdout",
     "output_type": "stream",
     "text": [
      " UUIAWERTIFGDFGOBBGBU\n",
      "['U', 'U', 'I', 'A', 'E', 'I', 'O', 'U']\n"
     ]
    }
   ],
   "source": [
    "str1= ' uuiawertifgdfgobbgbu'\n",
    "str2 =  'auisdfyeaoierwo'\n",
    "listy = ['A','E','I','O','U']\n",
    "ct_list = []\n",
    "list2=[]\n",
    "list3=[]\n",
    "def str_seq(str_val,listy,ct_list):\n",
    "    str_val = str_val.upper()\n",
    "    for i in listy: \n",
    "        print(i)\n",
    "        print(str_val.index(i))\n",
    "def str_seq1(str_val):\n",
    "    str_val = str_val.upper()\n",
    "    print(str_val)\n",
    "    for i in str_val: \n",
    "        #print(i)\n",
    "        #print(str_val.index(i))\n",
    "        if i in 'AEIOU':\n",
    "            list3.append(i)\n",
    "    return list3\n",
    "x=str_seq1(str1)\n",
    "print(x)\n",
    "A=(str1.count('a'))\n",
    "ct_list.append(A)\n",
    "E= (str1.count('e'))\n",
    "ct_list.append(E)\n",
    "I = (str1.count('i'))\n",
    "ct_list.append(I)\n",
    "O= (str1.count('o'))\n",
    "ct_list.append(O)\n",
    "U=(str1.count('u'))\n",
    "ct_list.append(U)\n",
    "#print(ct_list)\n",
    "res = {}\n",
    "for key in listy:\n",
    "    for value in ct_list:\n",
    "        res[key] = value\n",
    "        ct_list.remove(value)\n",
    "        break  \n",
    "#print(res)\n",
    "#x=str_seq(str1,listy,ct_list)"
   ]
  },
  {
   "cell_type": "code",
   "execution_count": 9,
   "id": "3a5f99b8",
   "metadata": {},
   "outputs": [
    {
     "name": "stdout",
     "output_type": "stream",
     "text": [
      " UUIAWERTIFGDFGOBBGBU\n",
      "vowels are in sequence\n"
     ]
    }
   ],
   "source": [
    "str1= ' uuiawertifgdfgobbgbu'\n",
    "str2 =  'auisdfyeaoierwo'\n",
    "def str_seq1(str_val):\n",
    "    str_val = str_val.upper()\n",
    "    print(str_val)\n",
    "    ns=''\n",
    "    for i in str_val: \n",
    "        #print(i)\n",
    "        #print(str_val.index(i))\n",
    "        if i in 'AEIOU':\n",
    "            ns = ns+i\n",
    "    return list3,ns\n",
    "x=str_seq1(str1)\n",
    "val = (x[1].find('AEIOU'))\n",
    "if val != -1:\n",
    "    print(\"vowels are in sequence\")\n",
    "else:\n",
    "    print(\"Not in sequence\")"
   ]
  },
  {
   "cell_type": "code",
   "execution_count": 22,
   "id": "78b44576",
   "metadata": {},
   "outputs": [
    {
     "name": "stdout",
     "output_type": "stream",
     "text": [
      "your string has sequence vowel\n"
     ]
    }
   ],
   "source": [
    "def myfunc(string):\n",
    "    vowel = ['a','e','i','o','u']\n",
    "    for i in string:\n",
    "        #print(i,len(vowel))\n",
    "        if len(vowel) == 0:\n",
    "            break\n",
    "        if  i == vowel[0]:\n",
    "            vowel.pop(0)\n",
    "            #print(vowel)\n",
    "    if len(vowel)==0:\n",
    "        print(\"your string has sequence vowel\")\n",
    "    else:\n",
    "        print(\"no sequence\")\n",
    "\n",
    "#string = ['a','p','p','l','e','i','o','u','p']\n",
    "string = 'gdxogdff yttr ytun aeieoutr uytyttbniuh'\n",
    "myfunc(string)"
   ]
  },
  {
   "cell_type": "code",
   "execution_count": 23,
   "id": "3b64529b",
   "metadata": {},
   "outputs": [
    {
     "name": "stdout",
     "output_type": "stream",
     "text": [
      "mammal\n",
      "I'm a mammal\n",
      "I'm a dog\n"
     ]
    }
   ],
   "source": [
    " \n",
    "class Dog:\n",
    "     \n",
    "    # A simple class\n",
    "    # attribute\n",
    "    attr1 = \"mammal\"\n",
    "    attr2 = \"dog\"\n",
    " \n",
    "    # A sample method \n",
    "    def fun(self):\n",
    "        print(\"I'm a\", self.attr1)\n",
    "        print(\"I'm a\", self.attr2)\n",
    " \n",
    "# Driver code\n",
    "# Object instantiation\n",
    "Rodger = Dog()\n",
    " \n",
    "# Accessing class attributes\n",
    "# and method through objects\n",
    "print(Rodger.attr1)\n",
    "Rodger.fun()"
   ]
  },
  {
   "cell_type": "code",
   "execution_count": null,
   "id": "5f021f3f",
   "metadata": {},
   "outputs": [],
   "source": []
  }
 ],
 "metadata": {
  "kernelspec": {
   "display_name": "Python 3",
   "language": "python",
   "name": "python3"
  },
  "language_info": {
   "codemirror_mode": {
    "name": "ipython",
    "version": 3
   },
   "file_extension": ".py",
   "mimetype": "text/x-python",
   "name": "python",
   "nbconvert_exporter": "python",
   "pygments_lexer": "ipython3",
   "version": "3.8.8"
  }
 },
 "nbformat": 4,
 "nbformat_minor": 5
}
