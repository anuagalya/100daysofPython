{
 "cells": [
  {
   "cell_type": "code",
   "execution_count": 2,
   "id": "23ec0171",
   "metadata": {},
   "outputs": [
    {
     "name": "stdout",
     "output_type": "stream",
     "text": [
      "[ 1  4  9 16 25]\n"
     ]
    }
   ],
   "source": [
    "import math\n",
    "import numpy as np\n",
    "l = [1,2,3,4,5]\n",
    "ls = np.square(l)\n",
    "print(ls)"
   ]
  },
  {
   "cell_type": "code",
   "execution_count": 9,
   "id": "0b0fdf02",
   "metadata": {},
   "outputs": [
    {
     "name": "stdout",
     "output_type": "stream",
     "text": [
      "<class '_io.TextIOWrapper'>\n",
      "<_io.TextIOWrapper name='trial.csv' mode='r' encoding='cp1252'>\n"
     ]
    }
   ],
   "source": [
    "import csv\n",
    "file = open('trial.csv')\n",
    "print(type(file))\n",
    "print(file)\n",
    "csvreader = csv.reader(file)\n",
    "header = []\n",
    "header = next(csvreader)\n",
    "header\n",
    "rows = []\n",
    "for row in csvreader:\n",
    "    rows.append(row)\n",
    "rows\n",
    "file.close()"
   ]
  },
  {
   "cell_type": "code",
   "execution_count": 13,
   "id": "40e51313",
   "metadata": {},
   "outputs": [
    {
     "name": "stdout",
     "output_type": "stream",
     "text": [
      "['ï»¿Dept_id', 'Emp_id', 'Emp_name']\n",
      "[['D1', 'E1', 'aa'], ['D1', 'E2', 'bb'], ['D1', 'E3', 'cc'], ['D1', 'E4', 'dd'], ['D2', 'E5', 'ee'], ['D2', 'E6', 'ff'], ['D3', 'E10', 'gg'], ['D4', 'E11', 'hh'], ['D4', 'E12', 'ii']]\n",
      "<class '_csv.reader'>\n"
     ]
    }
   ],
   "source": [
    "import csv\n",
    "rows = []\n",
    "with open(\"trial.csv\", 'r') as file:\n",
    "    csvreader = csv.reader(file)\n",
    "    header = next(csvreader)\n",
    "    for row in csvreader:\n",
    "        rows.append(row)\n",
    "print(header)\n",
    "print(rows)\n",
    "print(type(csvreader))"
   ]
  },
  {
   "cell_type": "code",
   "execution_count": 4,
   "id": "936517d0",
   "metadata": {},
   "outputs": [
    {
     "name": "stdout",
     "output_type": "stream",
     "text": [
      "  Dept_id Emp_id Emp_name\n",
      "0      D1     E1       aa\n",
      "1      D1     E2       bb\n",
      "2      D1     E3       cc\n",
      "3      D1     E4       dd\n",
      "4      D2     E5       ee\n",
      "5      D2     E6       ff\n",
      "6      D3    E10       gg\n",
      "7      D4    E11       hh\n",
      "8      D4    E12       ii\n",
      "  Dept_id Emp_id Emp_name\n",
      "0      D1     E1       aa\n",
      "1      D1     E2       bb\n",
      "2      D1     E3       cc\n",
      "3      D1     E4       dd\n",
      "D1\n",
      "emp_D1.csv\n",
      "  Dept_id Emp_id Emp_name\n",
      "4      D2     E5       ee\n",
      "5      D2     E6       ff\n",
      "D2\n",
      "emp_D2.csv\n",
      "  Dept_id Emp_id Emp_name\n",
      "6      D3    E10       gg\n",
      "D3\n",
      "emp_D3.csv\n",
      "  Dept_id Emp_id Emp_name\n",
      "7      D4    E11       hh\n",
      "8      D4    E12       ii\n",
      "D4\n",
      "emp_D4.csv\n"
     ]
    }
   ],
   "source": [
    "import pandas as pd\n",
    "df = pd.read_csv('trial.csv')\n",
    "#print(df.to_string())\n",
    "print(df)\n",
    "gk = df.groupby('Dept_id')\n",
    "for group,Dept_id in gk:\n",
    "    print(Dept_id)\n",
    "    gp = group\n",
    "    print(gp)\n",
    "    aa = pd.DataFrame(Dept_id)\n",
    "    file_name = 'emp_'+gp+'.csv'\n",
    "    print(file_name)\n",
    "    aa.to_csv('emp_'+gp+'.csv', index = False, header = True)\n",
    "    #print(type(Dept_id))"
   ]
  },
  {
   "cell_type": "code",
   "execution_count": 38,
   "id": "cab2f289",
   "metadata": {},
   "outputs": [
    {
     "name": "stdout",
     "output_type": "stream",
     "text": [
      "  Dept_id       Emp_id\n",
      "0      D1  E1|E2|E3|E4\n",
      "4      D2        E5|E6\n",
      "6      D3          E10\n",
      "7      D4      E11|E12\n"
     ]
    }
   ],
   "source": [
    "import pandas as pd\n",
    "df = pd.read_csv('trial.csv')\n",
    "df['Emp_id'] = df.groupby(['Dept_id'])['Emp_id'].transform(lambda x : '|'.join(x))\n",
    "df = df.drop_duplicates()\n",
    "new_df = df.drop(['Emp_name'], axis = 1)\n",
    "#new_df.drop(['Emp_name'], axis = 1)\n",
    "print(new_df.drop_duplicates())"
   ]
  },
  {
   "cell_type": "code",
   "execution_count": null,
   "id": "d21d1969",
   "metadata": {},
   "outputs": [],
   "source": []
  }
 ],
 "metadata": {
  "kernelspec": {
   "display_name": "Python 3",
   "language": "python",
   "name": "python3"
  },
  "language_info": {
   "codemirror_mode": {
    "name": "ipython",
    "version": 3
   },
   "file_extension": ".py",
   "mimetype": "text/x-python",
   "name": "python",
   "nbconvert_exporter": "python",
   "pygments_lexer": "ipython3",
   "version": "3.8.8"
  }
 },
 "nbformat": 4,
 "nbformat_minor": 5
}
