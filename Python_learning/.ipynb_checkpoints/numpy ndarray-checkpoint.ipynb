{
 "cells": [
  {
   "cell_type": "code",
   "execution_count": 24,
   "id": "4bda8ff3",
   "metadata": {},
   "outputs": [
    {
     "name": "stdout",
     "output_type": "stream",
     "text": [
      "[['1' '2' '3']\n",
      " ['4' 'asas' '6']]\n",
      "2\n",
      "44\n",
      "<U11\n",
      "<class 'numpy.ndarray'>\n"
     ]
    }
   ],
   "source": [
    "import numpy\n",
    "a = numpy.array([[1, 2, 3], [4, 'asas', 6]])  \n",
    "b = numpy.array([1, 2, 3],complex)  \n",
    "c = numpy.array([1, 2, 3])\n",
    "print(a)\n",
    "print(a.ndim)\n",
    "print(a.itemsize)\n",
    "print(a.dtype)\n",
    "print(type(a))"
   ]
  },
  {
   "cell_type": "code",
   "execution_count": 13,
   "id": "e3bc8984",
   "metadata": {},
   "outputs": [
    {
     "name": "stdout",
     "output_type": "stream",
     "text": [
      "Array Size: 7\n",
      "Shape: (1, 7)\n"
     ]
    }
   ],
   "source": [
    "import numpy as np  \n",
    "a = np.array([[1,2,3,4,5,6,7]])  \n",
    "print(\"Array Size:\",a.size)  \n",
    "print(\"Shape:\",a.shape)  "
   ]
  },
  {
   "cell_type": "code",
   "execution_count": 25,
   "id": "9a7c79da",
   "metadata": {},
   "outputs": [
    {
     "name": "stdout",
     "output_type": "stream",
     "text": [
      "printing the original array..\n",
      "[[1 2]\n",
      " [3 4]\n",
      " [5 6]]\n",
      "(3, 2)\n",
      "printing the reshaped array..\n",
      "[[1 2 3]\n",
      " [4 5 6]]\n"
     ]
    }
   ],
   "source": [
    "import numpy as np  \n",
    "a = np.array([[1,2],[3,4],[5,6]])  \n",
    "print(\"printing the original array..\")  \n",
    "print(a) \n",
    "print(a.shape)\n",
    "a=a.reshape(2,3)  \n",
    "print(\"printing the reshaped array..\")  \n",
    "print(a)  "
   ]
  },
  {
   "cell_type": "code",
   "execution_count": 15,
   "id": "f30e4fd6",
   "metadata": {},
   "outputs": [
    {
     "name": "stdout",
     "output_type": "stream",
     "text": [
      "2\n",
      "5\n"
     ]
    }
   ],
   "source": [
    "import numpy as np  \n",
    "a = np.array([[1,2],[3,4],[5,6]])  \n",
    "print(a[0,1])  \n",
    "print(a[2,0])  "
   ]
  },
  {
   "cell_type": "code",
   "execution_count": 16,
   "id": "b70425fc",
   "metadata": {},
   "outputs": [
    {
     "name": "stdout",
     "output_type": "stream",
     "text": [
      "[ 5.          6.11111111  7.22222222  8.33333333  9.44444444 10.55555556\n",
      " 11.66666667 12.77777778 13.88888889 15.        ]\n"
     ]
    }
   ],
   "source": [
    "import numpy as np  \n",
    "a=np.linspace(5,15,10) #prints 10 values which are evenly spaced over the given interval 5-15  \n",
    "print(a)  "
   ]
  },
  {
   "cell_type": "code",
   "execution_count": 27,
   "id": "15a4f349",
   "metadata": {},
   "outputs": [
    {
     "name": "stdout",
     "output_type": "stream",
     "text": [
      "The array: [ 1  2  3 10 15  4]\n",
      "The maximum element: 15\n",
      "The minimum element: 1\n",
      "The sum of the elements: 35\n"
     ]
    }
   ],
   "source": [
    "import numpy as np  \n",
    "a = np.array([1,2,3,10,15,4])  \n",
    "print(\"The array:\",a)  \n",
    "print(\"The maximum element:\",a.max())  \n",
    "print(\"The minimum element:\",a.min())  \n",
    "print(\"The sum of the elements:\",a.sum())  "
   ]
  },
  {
   "cell_type": "code",
   "execution_count": 18,
   "id": "8907a8ea",
   "metadata": {},
   "outputs": [
    {
     "name": "stdout",
     "output_type": "stream",
     "text": [
      "The array: [[ 1  2 30]\n",
      " [10 15  4]]\n",
      "The maximum elements of columns: [10 15 30]\n",
      "The minimum element of rows [1 4]\n",
      "The sum of all rows [33 29]\n"
     ]
    }
   ],
   "source": [
    "import numpy as np  \n",
    "a = np.array([[1,2,30],[10,15,4]])  \n",
    "print(\"The array:\",a)  \n",
    "print(\"The maximum elements of columns:\",a.max(axis = 0))   \n",
    "print(\"The minimum element of rows\",a.min(axis = 1))  \n",
    "print(\"The sum of all rows\",a.sum(axis = 1))  "
   ]
  },
  {
   "cell_type": "code",
   "execution_count": 19,
   "id": "7b06e5e2",
   "metadata": {},
   "outputs": [
    {
     "name": "stdout",
     "output_type": "stream",
     "text": [
      "[[1.         1.41421356 5.47722558]\n",
      " [3.16227766 3.87298335 2.        ]]\n",
      "10.044346115546242\n"
     ]
    }
   ],
   "source": [
    "import numpy as np  \n",
    "a = np.array([[1,2,30],[10,15,4]])  \n",
    "print(np.sqrt(a))  \n",
    "print(np.std(a))  "
   ]
  },
  {
   "cell_type": "code",
   "execution_count": 20,
   "id": "64837894",
   "metadata": {},
   "outputs": [
    {
     "name": "stdout",
     "output_type": "stream",
     "text": [
      "Sum of array a and b\n",
      " [[ 2  4 33]\n",
      " [22 34 33]]\n",
      "Product of array a and b\n",
      " [[  1   4  90]\n",
      " [120 285 116]]\n",
      "Division of array a and b\n",
      " [[ 1.          1.         10.        ]\n",
      " [ 0.83333333  0.78947368  0.13793103]]\n"
     ]
    }
   ],
   "source": [
    "import numpy as np  \n",
    "a = np.array([[1,2,30],[10,15,4]])  \n",
    "b = np.array([[1,2,3],[12, 19, 29]])  \n",
    "print(\"Sum of array a and b\\n\",a+b)  \n",
    "print(\"Product of array a and b\\n\",a*b)  \n",
    "print(\"Division of array a and b\\n\",a/b)  "
   ]
  },
  {
   "cell_type": "code",
   "execution_count": 21,
   "id": "dc97675c",
   "metadata": {},
   "outputs": [
    {
     "name": "stdout",
     "output_type": "stream",
     "text": [
      "Arrays vertically concatenated\n",
      " [[ 1  2 30]\n",
      " [10 15  4]\n",
      " [ 1  2  3]\n",
      " [12 19 29]]\n",
      "Arrays horizontally concatenated\n",
      " [[ 1  2 30  1  2  3]\n",
      " [10 15  4 12 19 29]]\n"
     ]
    }
   ],
   "source": [
    "import numpy as np  \n",
    "a = np.array([[1,2,30],[10,15,4]])  \n",
    "b = np.array([[1,2,3],[12, 19, 29]])  \n",
    "print(\"Arrays vertically concatenated\\n\",np.vstack((a,b)));  \n",
    "print(\"Arrays horizontally concatenated\\n\",np.hstack((a,b)))  "
   ]
  },
  {
   "cell_type": "code",
   "execution_count": null,
   "id": "996d381a",
   "metadata": {},
   "outputs": [],
   "source": []
  }
 ],
 "metadata": {
  "kernelspec": {
   "display_name": "Python 3",
   "language": "python",
   "name": "python3"
  },
  "language_info": {
   "codemirror_mode": {
    "name": "ipython",
    "version": 3
   },
   "file_extension": ".py",
   "mimetype": "text/x-python",
   "name": "python",
   "nbconvert_exporter": "python",
   "pygments_lexer": "ipython3",
   "version": "3.8.8"
  }
 },
 "nbformat": 4,
 "nbformat_minor": 5
}
