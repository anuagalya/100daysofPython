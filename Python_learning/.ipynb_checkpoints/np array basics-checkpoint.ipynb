{
 "cells": [
  {
   "cell_type": "code",
   "execution_count": 2,
   "id": "eefe9f30",
   "metadata": {},
   "outputs": [
    {
     "name": "stdout",
     "output_type": "stream",
     "text": [
      "int32\n",
      "<module 'numpy' from 'C:\\\\Users\\\\u1008487\\\\Anaconda3\\\\lib\\\\site-packages\\\\numpy\\\\__init__.py'>\n"
     ]
    }
   ],
   "source": [
    "import numpy as np  \n",
    "d = np.dtype(np.int32)  \n",
    "print(d)  \n",
    "print(np)"
   ]
  },
  {
   "cell_type": "code",
   "execution_count": 4,
   "id": "5c95e758",
   "metadata": {},
   "outputs": [
    {
     "name": "stdout",
     "output_type": "stream",
     "text": [
      "[('salary', '<f8')]\n"
     ]
    }
   ],
   "source": [
    "import numpy as np  \n",
    "d = np.dtype([('salary',np.float)])  \n",
    "print(d)  "
   ]
  },
  {
   "cell_type": "code",
   "execution_count": 5,
   "id": "fc33434e",
   "metadata": {},
   "outputs": [
    {
     "name": "stdout",
     "output_type": "stream",
     "text": [
      "[10000.12 20000.5 ]\n"
     ]
    }
   ],
   "source": [
    "import numpy as np  \n",
    "d=np.dtype([('salary',np.float)])  \n",
    "arr = np.array([(10000.12,),(20000.50,)],dtype=d)  \n",
    "print(arr['salary'])  "
   ]
  },
  {
   "cell_type": "code",
   "execution_count": 7,
   "id": "53608e28",
   "metadata": {},
   "outputs": [
    {
     "name": "stdout",
     "output_type": "stream",
     "text": [
      "[[ 1752951184         265]\n",
      " [          0           0]\n",
      " [          1 -2147483648]]\n"
     ]
    }
   ],
   "source": [
    "import numpy as np  \n",
    "arr = np.empty((3,2), dtype = int)  \n",
    "print(arr)  "
   ]
  },
  {
   "cell_type": "code",
   "execution_count": 8,
   "id": "661018f9",
   "metadata": {},
   "outputs": [
    {
     "name": "stdout",
     "output_type": "stream",
     "text": [
      "[[0 0]\n",
      " [0 0]\n",
      " [0 0]]\n"
     ]
    }
   ],
   "source": [
    "import numpy as np  \n",
    "arr = np.zeros((3,2), dtype = int)  \n",
    "print(arr)  "
   ]
  },
  {
   "cell_type": "code",
   "execution_count": 9,
   "id": "b85c1d5f",
   "metadata": {},
   "outputs": [
    {
     "name": "stdout",
     "output_type": "stream",
     "text": [
      "[[1 1]\n",
      " [1 1]\n",
      " [1 1]]\n"
     ]
    }
   ],
   "source": [
    "import numpy as np  \n",
    "arr = np.ones((3,2), dtype = int)  \n",
    "print(arr)  \n"
   ]
  },
  {
   "cell_type": "code",
   "execution_count": 10,
   "id": "211f1c65",
   "metadata": {},
   "outputs": [
    {
     "name": "stdout",
     "output_type": "stream",
     "text": [
      "<class 'numpy.ndarray'>\n",
      "[1 2 3 4 5 6 7]\n"
     ]
    }
   ],
   "source": [
    "import numpy as np  \n",
    "l=[1,2,3,4,5,6,7]  \n",
    "a = np.asarray(l);  \n",
    "print(type(a))  \n",
    "print(a)  "
   ]
  },
  {
   "cell_type": "code",
   "execution_count": 11,
   "id": "728e1b2f",
   "metadata": {},
   "outputs": [
    {
     "name": "stdout",
     "output_type": "stream",
     "text": [
      "<class 'numpy.ndarray'>\n",
      "[1 2 3 4 5 6 7]\n"
     ]
    }
   ],
   "source": [
    "import numpy as np  \n",
    "l=(1,2,3,4,5,6,7)     \n",
    "a = np.asarray(l);  \n",
    "print(type(a))  \n",
    "print(a)  "
   ]
  },
  {
   "cell_type": "code",
   "execution_count": 12,
   "id": "30ba8bfb",
   "metadata": {},
   "outputs": [
    {
     "name": "stdout",
     "output_type": "stream",
     "text": [
      "<class 'numpy.ndarray'>\n",
      "[list([1, 2, 3, 4, 5, 6, 7]) list([8, 9])]\n"
     ]
    },
    {
     "name": "stderr",
     "output_type": "stream",
     "text": [
      "C:\\Users\\u1008487\\Anaconda3\\lib\\site-packages\\numpy\\core\\_asarray.py:83: VisibleDeprecationWarning: Creating an ndarray from ragged nested sequences (which is a list-or-tuple of lists-or-tuples-or ndarrays with different lengths or shapes) is deprecated. If you meant to do this, you must specify 'dtype=object' when creating the ndarray\n",
      "  return array(a, dtype, copy=False, order=order)\n"
     ]
    }
   ],
   "source": [
    "import numpy as np  \n",
    "l=[[1,2,3,4,5,6,7],[8,9]]  \n",
    "a = np.asarray(l);  \n",
    "print(type(a))  \n",
    "print(a)  "
   ]
  },
  {
   "cell_type": "code",
   "execution_count": 13,
   "id": "463b0bdd",
   "metadata": {},
   "outputs": [
    {
     "name": "stdout",
     "output_type": "stream",
     "text": [
      "<class 'bytes'>\n",
      "[b'h' b'e' b'l' b'l' b'o' b' ' b'w' b'o' b'r' b'l' b'd']\n",
      "<class 'numpy.ndarray'>\n"
     ]
    }
   ],
   "source": [
    "import numpy as np  \n",
    "l = b'hello world'  \n",
    "print(type(l))  \n",
    "a = np.frombuffer(l, dtype = \"S1\")  \n",
    "print(a)  \n",
    "print(type(a))  "
   ]
  },
  {
   "cell_type": "code",
   "execution_count": 14,
   "id": "2b5b2184",
   "metadata": {},
   "outputs": [
    {
     "name": "stdout",
     "output_type": "stream",
     "text": [
      "[0. 2. 4. 6.]\n",
      "<class 'numpy.ndarray'>\n"
     ]
    }
   ],
   "source": [
    "import numpy as np  \n",
    "list = [0,2,4,6]  \n",
    "it = iter(list)  \n",
    "x = np.fromiter(it, dtype = float)  \n",
    "print(x)  \n",
    "print(type(x))  "
   ]
  },
  {
   "cell_type": "code",
   "execution_count": 15,
   "id": "a92e863c",
   "metadata": {},
   "outputs": [
    {
     "name": "stdout",
     "output_type": "stream",
     "text": [
      "[0. 2. 4. 6. 8.]\n"
     ]
    }
   ],
   "source": [
    "import numpy as np  \n",
    "arr = np.arange(0,10,2,float)  \n",
    "print(arr)  "
   ]
  },
  {
   "cell_type": "code",
   "execution_count": 16,
   "id": "ee365383",
   "metadata": {},
   "outputs": [
    {
     "name": "stdout",
     "output_type": "stream",
     "text": [
      "The array over the given range is  [10 15 20 25 30 35 40 45 50 55 60 65 70 75 80 85 90 95]\n"
     ]
    }
   ],
   "source": [
    "import numpy as np  \n",
    "arr = np.arange(10,100,5,int)  \n",
    "print(\"The array over the given range is \",arr)  "
   ]
  },
  {
   "cell_type": "code",
   "execution_count": 19,
   "id": "8454e55a",
   "metadata": {},
   "outputs": [
    {
     "name": "stdout",
     "output_type": "stream",
     "text": [
      "The array over the given range is  [10.  12.5 15.  17.5 20. ]\n"
     ]
    }
   ],
   "source": [
    "import numpy as np  \n",
    "arr = np.linspace(10, 20, 5)  \n",
    "print(\"The array over the given range is \",arr)  "
   ]
  },
  {
   "cell_type": "code",
   "execution_count": 20,
   "id": "b6b8545d",
   "metadata": {},
   "outputs": [
    {
     "name": "stdout",
     "output_type": "stream",
     "text": [
      "The array over the given range is  [10. 12. 14. 16. 18.]\n"
     ]
    }
   ],
   "source": [
    "import numpy as np  \n",
    "arr = np.linspace(10, 20, 5, endpoint = False)  \n",
    "print(\"The array over the given range is \",arr)  "
   ]
  },
  {
   "cell_type": "code",
   "execution_count": 21,
   "id": "c1afe9f8",
   "metadata": {},
   "outputs": [
    {
     "name": "stdout",
     "output_type": "stream",
     "text": [
      "The array over the given range is  [1.00000000e+10 3.16227766e+12 1.00000000e+15 3.16227766e+17\n",
      " 1.00000000e+20]\n"
     ]
    }
   ],
   "source": [
    "import numpy as np  \n",
    "arr = np.logspace(10, 20, num = 5, endpoint = True)  \n",
    "print(\"The array over the given range is \",arr)  "
   ]
  },
  {
   "cell_type": "code",
   "execution_count": 22,
   "id": "20c0d47d",
   "metadata": {},
   "outputs": [
    {
     "name": "stdout",
     "output_type": "stream",
     "text": [
      "[ 2  8 18 32 50 72 98]\n"
     ]
    }
   ],
   "source": [
    "import numpy as np  \n",
    "a = np.array([1,2,3,4,5,6,7])  \n",
    "b = np.array([2,4,6,8,10,12,14])  \n",
    "c = a*b;  \n",
    "print(c)  "
   ]
  },
  {
   "cell_type": "code",
   "execution_count": 23,
   "id": "4315d566",
   "metadata": {},
   "outputs": [
    {
     "ename": "ValueError",
     "evalue": "operands could not be broadcast together with shapes (7,) (8,) ",
     "output_type": "error",
     "traceback": [
      "\u001b[1;31m---------------------------------------------------------------------------\u001b[0m",
      "\u001b[1;31mValueError\u001b[0m                                Traceback (most recent call last)",
      "\u001b[1;32m<ipython-input-23-9e8a25e9ac52>\u001b[0m in \u001b[0;36m<module>\u001b[1;34m\u001b[0m\n\u001b[0;32m      2\u001b[0m \u001b[0ma\u001b[0m \u001b[1;33m=\u001b[0m \u001b[0mnp\u001b[0m\u001b[1;33m.\u001b[0m\u001b[0marray\u001b[0m\u001b[1;33m(\u001b[0m\u001b[1;33m[\u001b[0m\u001b[1;36m1\u001b[0m\u001b[1;33m,\u001b[0m\u001b[1;36m2\u001b[0m\u001b[1;33m,\u001b[0m\u001b[1;36m3\u001b[0m\u001b[1;33m,\u001b[0m\u001b[1;36m4\u001b[0m\u001b[1;33m,\u001b[0m\u001b[1;36m5\u001b[0m\u001b[1;33m,\u001b[0m\u001b[1;36m6\u001b[0m\u001b[1;33m,\u001b[0m\u001b[1;36m7\u001b[0m\u001b[1;33m]\u001b[0m\u001b[1;33m)\u001b[0m\u001b[1;33m\u001b[0m\u001b[1;33m\u001b[0m\u001b[0m\n\u001b[0;32m      3\u001b[0m \u001b[0mb\u001b[0m \u001b[1;33m=\u001b[0m \u001b[0mnp\u001b[0m\u001b[1;33m.\u001b[0m\u001b[0marray\u001b[0m\u001b[1;33m(\u001b[0m\u001b[1;33m[\u001b[0m\u001b[1;36m2\u001b[0m\u001b[1;33m,\u001b[0m\u001b[1;36m4\u001b[0m\u001b[1;33m,\u001b[0m\u001b[1;36m6\u001b[0m\u001b[1;33m,\u001b[0m\u001b[1;36m8\u001b[0m\u001b[1;33m,\u001b[0m\u001b[1;36m10\u001b[0m\u001b[1;33m,\u001b[0m\u001b[1;36m12\u001b[0m\u001b[1;33m,\u001b[0m\u001b[1;36m14\u001b[0m\u001b[1;33m,\u001b[0m\u001b[1;36m19\u001b[0m\u001b[1;33m]\u001b[0m\u001b[1;33m)\u001b[0m\u001b[1;33m\u001b[0m\u001b[1;33m\u001b[0m\u001b[0m\n\u001b[1;32m----> 4\u001b[1;33m \u001b[0mc\u001b[0m \u001b[1;33m=\u001b[0m \u001b[0ma\u001b[0m\u001b[1;33m*\u001b[0m\u001b[0mb\u001b[0m\u001b[1;33m;\u001b[0m\u001b[1;33m\u001b[0m\u001b[1;33m\u001b[0m\u001b[0m\n\u001b[0m\u001b[0;32m      5\u001b[0m \u001b[0mprint\u001b[0m\u001b[1;33m(\u001b[0m\u001b[0mc\u001b[0m\u001b[1;33m)\u001b[0m\u001b[1;33m\u001b[0m\u001b[1;33m\u001b[0m\u001b[0m\n",
      "\u001b[1;31mValueError\u001b[0m: operands could not be broadcast together with shapes (7,) (8,) "
     ]
    }
   ],
   "source": [
    "import numpy as np  \n",
    "a = np.array([1,2,3,4,5,6,7])  \n",
    "b = np.array([2,4,6,8,10,12,14,19])  \n",
    "c = a*b;  \n",
    "print(c)  "
   ]
  },
  {
   "cell_type": "code",
   "execution_count": 24,
   "id": "0c9c67ab",
   "metadata": {},
   "outputs": [
    {
     "name": "stdout",
     "output_type": "stream",
     "text": [
      "\n",
      "printing array a..\n",
      "[[ 1  2  3  4]\n",
      " [ 2  4  5  6]\n",
      " [10 20 39  3]]\n",
      "\n",
      "printing array b..\n",
      "[2 4 6 8]\n",
      "\n",
      "Adding arrays a and b ..\n",
      "[[ 3  6  9 12]\n",
      " [ 4  8 11 14]\n",
      " [12 24 45 11]]\n"
     ]
    }
   ],
   "source": [
    "import numpy as np  \n",
    "a = np.array([[1,2,3,4],[2,4,5,6],[10,20,39,3]])  \n",
    "b = np.array([2,4,6,8])  \n",
    "print(\"\\nprinting array a..\")  \n",
    "print(a)  \n",
    "print(\"\\nprinting array b..\")  \n",
    "print(b)  \n",
    "print(\"\\nAdding arrays a and b ..\")  \n",
    "c = a + b;  \n",
    "print(c)  "
   ]
  },
  {
   "cell_type": "code",
   "execution_count": 28,
   "id": "3698c4e1",
   "metadata": {},
   "outputs": [
    {
     "name": "stdout",
     "output_type": "stream",
     "text": [
      "Printing array:\n",
      "[[ 1  2  3  4]\n",
      " [ 2  4  5  6]\n",
      " [10 20 39  3]]\n",
      "Iterating over the array:\n",
      "1 2 3 4 2 4 5 6 10 20 39 3 [1 2 3 4]  \n",
      "[2 4 5 6]  \n",
      "[10 20 39  3]  \n"
     ]
    }
   ],
   "source": [
    "import numpy as np  \n",
    "a = np.array([[1,2,3,4],[2,4,5,6],[10,20,39,3]])  \n",
    "print(\"Printing array:\")  \n",
    "print(a);  \n",
    "print(\"Iterating over the array:\")  \n",
    "for x in np.nditer(a):  \n",
    "    print(x,end=' ')\n",
    "for x in a:\n",
    "    print(x,\" \")"
   ]
  },
  {
   "cell_type": "code",
   "execution_count": 32,
   "id": "531bd9e9",
   "metadata": {},
   "outputs": [
    {
     "name": "stdout",
     "output_type": "stream",
     "text": [
      "Printing the array:\n",
      "[[ 1  2  3  4]\n",
      " [ 2  4  5  6]\n",
      " [10 20 39  3]]\n",
      "Printing the transpose of the array:\n",
      "[[ 1  2 10]\n",
      " [ 2  4 20]\n",
      " [ 3  5 39]\n",
      " [ 4  6  3]]\n",
      "Iterating over the array: 1\n",
      "Iterating over the array: 2\n",
      "Iterating over the array: 3\n",
      "Iterating over the array: 4\n",
      "Iterating over the array: 2\n",
      "Iterating over the array: 4\n",
      "Iterating over the array: 5\n",
      "Iterating over the array: 6\n",
      "Iterating over the array: 10\n",
      "Iterating over the array: 20\n",
      "Iterating over the array: 39\n",
      "Iterating over the array: 3\n",
      "1 2 3 4 2 4 5 6 10 20 39 3 "
     ]
    }
   ],
   "source": [
    "import numpy as np  \n",
    "a = np.array([[1,2,3,4],[2,4,5,6],[10,20,39,3]])  \n",
    "print(\"Printing the array:\")  \n",
    "print(a)  \n",
    "print(\"Printing the transpose of the array:\")  \n",
    "at = a.T  \n",
    "print(at)  \n",
    "  \n",
    "#this will be same as previous   \n",
    "for x in np.nditer(at):  \n",
    "    print(\"Iterating over the array:\",x)  \n",
    "for x in np.nditer(a):\n",
    "    print(x,end=' ')"
   ]
  },
  {
   "cell_type": "code",
   "execution_count": 40,
   "id": "a35794f4",
   "metadata": {},
   "outputs": [
    {
     "name": "stdout",
     "output_type": "stream",
     "text": [
      "\n",
      "Printing the array:\n",
      "\n",
      "[[ 1  2  3  4]\n",
      " [ 2  4  5  6]\n",
      " [10 20 39  3]]\n",
      "\n",
      "Printing the transpose of the array:\n",
      "\n",
      "[[ 1  2 10]\n",
      " [ 2  4 20]\n",
      " [ 3  5 39]\n",
      " [ 4  6  3]]\n",
      "\n",
      "Iterating over the transposed array\n",
      "\n",
      "1 2 3 4 2 4 5 6 10 20 39 3 \n",
      "Printing the transposed array in C-style:\n",
      "\n",
      "[[ 1  2 10]\n",
      " [ 2  4 20]\n",
      " [ 3  5 39]\n",
      " [ 4  6  3]]\n",
      "\n",
      "Iterating over the C-style array:\n",
      "\n",
      "1 2 10 2 4 20 3 5 39 4 6 3 [[ 1  2 10]\n",
      " [ 2  4 20]\n",
      " [ 3  5 39]\n",
      " [ 4  6  3]]\n",
      "Iterating over the F-style array:\n",
      "\n",
      "1 2 3 4 2 4 5 6 10 20 39 3 "
     ]
    }
   ],
   "source": [
    "import numpy as np  \n",
    "a = np.array([[1,2,3,4],[2,4,5,6],[10,20,39,3]])  \n",
    "print(\"\\nPrinting the array:\\n\")  \n",
    "print(a)    \n",
    "print(\"\\nPrinting the transpose of the array:\\n\")  \n",
    "at = a.T    \n",
    "print(at)   \n",
    "print(\"\\nIterating over the transposed array\\n\")  \n",
    "for x in np.nditer(at):  \n",
    "    print(x, end= ' ')  \n",
    "print(\"\\nPrinting the transposed array in C-style:\\n\")  \n",
    "c = at.copy(order = 'C')  \n",
    "print(c)  \n",
    "print(\"\\nIterating over the C-style array:\\n\")  \n",
    "for x in np.nditer(c):  \n",
    "    print(x,end=' ')  \n",
    "d = at.copy(order = 'F')  \n",
    "print(d)  \n",
    "print(\"Iterating over the F-style array:\\n\")  \n",
    "for x in np.nditer(d):  \n",
    "    print(x,end=' ')  "
   ]
  },
  {
   "cell_type": "code",
   "execution_count": 41,
   "id": "260bd52e",
   "metadata": {},
   "outputs": [
    {
     "name": "stdout",
     "output_type": "stream",
     "text": [
      "\n",
      "Printing the array:\n",
      "\n",
      "[[ 1  2  3  4]\n",
      " [ 2  4  5  6]\n",
      " [10 20 39  3]]\n",
      "\n",
      "Printing the transpose of the array:\n",
      "\n",
      "[[ 1  2 10]\n",
      " [ 2  4 20]\n",
      " [ 3  5 39]\n",
      " [ 4  6  3]]\n",
      "\n",
      "Iterating over the transposed array\n",
      "\n",
      "1 2 3 4 2 4 5 6 10 20 39 3 \n",
      "printing the transposed array in C-style:\n",
      "\n",
      "\n",
      "Iterating over the C-style array:\n",
      "\n",
      "1 2 10 2 4 20 3 5 39 4 6 3 "
     ]
    }
   ],
   "source": [
    "import numpy as np  \n",
    "  \n",
    "a = np.array([[1,2,3,4],[2,4,5,6],[10,20,39,3]])  \n",
    "  \n",
    "print(\"\\nPrinting the array:\\n\")  \n",
    "  \n",
    "print(a)  \n",
    "  \n",
    "print(\"\\nPrinting the transpose of the array:\\n\")  \n",
    "at = a.T  \n",
    "  \n",
    "print(at)  \n",
    "  \n",
    "print(\"\\nIterating over the transposed array\\n\")  \n",
    "  \n",
    "for x in np.nditer(at):  \n",
    "    print(x, end= ' ')  \n",
    "print(\"\\nprinting the transposed array in C-style:\\n\")  \n",
    "  \n",
    "print(\"\\nIterating over the C-style array:\\n\")  \n",
    "for x in np.nditer(at, order = 'C'):  \n",
    "    print(x,end=' ')"
   ]
  },
  {
   "cell_type": "code",
   "execution_count": 38,
   "id": "a9472b77",
   "metadata": {},
   "outputs": [
    {
     "name": "stdout",
     "output_type": "stream",
     "text": [
      "\n",
      "Printing the original array:\n",
      "\n",
      "[[ 1  2  3  4]\n",
      " [ 2  4  5  6]\n",
      " [10 20 39  3]]\n",
      "\n",
      "Iterating over the modified array\n",
      "\n",
      "3 6 9 12 6 12 15 18 30 60 117 9 "
     ]
    }
   ],
   "source": [
    "import numpy as np  \n",
    "  \n",
    "a = np.array([[1,2,3,4],[2,4,5,6],[10,20,39,3]])  \n",
    "  \n",
    "print(\"\\nPrinting the original array:\\n\")  \n",
    "  \n",
    "print(a)  \n",
    "  \n",
    "print(\"\\nIterating over the modified array\\n\")  \n",
    "  \n",
    "for x in np.nditer(a, op_flags = ['readwrite']):  \n",
    "    x[...] = 3 * x;  \n",
    "    print(x,end = ' ')  "
   ]
  },
  {
   "cell_type": "code",
   "execution_count": null,
   "id": "f07d99fa",
   "metadata": {},
   "outputs": [],
   "source": []
  }
 ],
 "metadata": {
  "kernelspec": {
   "display_name": "Python 3",
   "language": "python",
   "name": "python3"
  },
  "language_info": {
   "codemirror_mode": {
    "name": "ipython",
    "version": 3
   },
   "file_extension": ".py",
   "mimetype": "text/x-python",
   "name": "python",
   "nbconvert_exporter": "python",
   "pygments_lexer": "ipython3",
   "version": "3.8.8"
  }
 },
 "nbformat": 4,
 "nbformat_minor": 5
}
