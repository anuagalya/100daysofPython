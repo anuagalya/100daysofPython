{
 "cells": [
  {
   "cell_type": "code",
   "execution_count": 1,
   "id": "f11ef8cb",
   "metadata": {},
   "outputs": [
    {
     "data": {
      "text/plain": [
       "\"in a function take input from user call duration. user can enter\\n10 min or 10 minutes or 8 hours or 6 hr or 10 sec or 10 seconds or 10 SEC in any case \\nin another function find the bill of customer if billing rate is 0.1 Rs/Second'''\\ntry solve above problem\""
      ]
     },
     "execution_count": 1,
     "metadata": {},
     "output_type": "execute_result"
    }
   ],
   "source": [
    "\"\"\"in a function take input from user call duration. user can enter\n",
    "10 min or 10 minutes or 8 hours or 6 hr or 10 sec or 10 seconds or 10 SEC in any case \n",
    "in another function find the bill of customer if billing rate is 0.1 Rs/Second'''\n",
    "try solve above problem\"\"\""
   ]
  },
  {
   "cell_type": "code",
   "execution_count": 1,
   "id": "a89660b6",
   "metadata": {},
   "outputs": [
    {
     "name": "stdout",
     "output_type": "stream",
     "text": [
      "enter call duration : 10 SeconD\n",
      "1.0\n"
     ]
    }
   ],
   "source": [
    "#in a function take input from user call duration. user can enter\n",
    "#10 min or 10 minutes or 8 hours or 6 hr or 10 sec or 10 seconds or 10 SEC in any case \n",
    "#in another function find the bill of customer if billing rate is 0.1 Rs/Second'''\n",
    "#try solve above problem\n",
    "\n",
    "def call_duration():\n",
    "    call_dur = str(input(\"enter call duration : \"))\n",
    "    return call_dur\n",
    "\n",
    "def split_1(cd):\n",
    "    time_format = cd.split(\" \")\n",
    "    tf = time_format[1]\n",
    "    time = int(time_format[0])\n",
    "    tfu = tf.upper()\n",
    "    if tfu in ('HRHOURS'):\n",
    "        bill_amount = float(time*60*60)*float(0.1)\n",
    "        print(bill_amount)\n",
    "    if tfu in ('MINMINUTES'):\n",
    "        bill_amount = float(time*60)*float(0.1)\n",
    "        print(bill_amount)\n",
    "    if tfu in ('SECSECONDS'):\n",
    "        bill_amount = float(time)*float(0.1)\n",
    "        print(bill_amount) \n",
    "\n",
    "    \n",
    "cd = call_duration()\n",
    "val = split_1(cd)\n",
    "\n"
   ]
  },
  {
   "cell_type": "code",
   "execution_count": null,
   "id": "e4a32c72",
   "metadata": {},
   "outputs": [],
   "source": []
  },
  {
   "cell_type": "code",
   "execution_count": null,
   "id": "f9f38879",
   "metadata": {},
   "outputs": [],
   "source": []
  }
 ],
 "metadata": {
  "kernelspec": {
   "display_name": "Python 3",
   "language": "python",
   "name": "python3"
  },
  "language_info": {
   "codemirror_mode": {
    "name": "ipython",
    "version": 3
   },
   "file_extension": ".py",
   "mimetype": "text/x-python",
   "name": "python",
   "nbconvert_exporter": "python",
   "pygments_lexer": "ipython3",
   "version": "3.8.8"
  }
 },
 "nbformat": 4,
 "nbformat_minor": 5
}
