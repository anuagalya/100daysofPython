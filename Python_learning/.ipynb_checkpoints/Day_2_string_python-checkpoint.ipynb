{
 "cells": [
  {
   "cell_type": "markdown",
   "id": "85b7ca75",
   "metadata": {},
   "source": [
    "0.take input from user first name and last name and concatenate it to full name\n",
    "1. count number of upper case letters in full name\n",
    "2. count number of lower case letters in full name\n",
    "3. count number of special chars in full name\n",
    "4. count number of spaces in full name\n",
    "5. count number of digits in full name\n",
    "6. find middle element of full name. if number of elements in full name is odd, print one middle element\n",
    "   if number of elements are even print 2 middle elements\n",
    "7. count vowels in string. vowels can be in upper or lower case\n",
    "8. print ASCII value of char which is highest\n",
    "9. print ASCII value of char which is lowest\"\"\""
   ]
  },
  {
   "cell_type": "code",
   "execution_count": 2,
   "id": "7b681a0d",
   "metadata": {},
   "outputs": [
    {
     "name": "stdout",
     "output_type": "stream",
     "text": [
      "Enter First name : Anu\n",
      "Enter last name : Agalya\n",
      "Full name is  Anu Agalya\n"
     ]
    }
   ],
   "source": [
    "#take input from user first name and last name and concatenate it to full name\n",
    "fn = str(input(\"Enter First name : \"))\n",
    "ln = str(input(\"Enter last name : \"))\n",
    "print(\"Full name is \",fn+\" \" +ln)"
   ]
  },
  {
   "cell_type": "code",
   "execution_count": 5,
   "id": "1cc8c06d",
   "metadata": {},
   "outputs": [
    {
     "name": "stdout",
     "output_type": "stream",
     "text": [
      "A\n",
      "A\n",
      "count number of upper case letters in full name  2\n"
     ]
    }
   ],
   "source": [
    "#count number of upper case letters in full name\n",
    "a=\"Anu Agalya\"\n",
    "ctr = 0\n",
    "for i in a:\n",
    "    if i.isupper():\n",
    "        ctr=ctr+1\n",
    "print(\"count number of upper case letters in full name \",ctr)"
   ]
  },
  {
   "cell_type": "code",
   "execution_count": 7,
   "id": "5235ad65",
   "metadata": {},
   "outputs": [
    {
     "name": "stdout",
     "output_type": "stream",
     "text": [
      "count number of lower case letters in full name  7\n"
     ]
    }
   ],
   "source": [
    "#count number of lower case letters in full name\n",
    "a=\"Anu Agalya\"\n",
    "ctr = 0\n",
    "for i in a:\n",
    "    if i.islower():\n",
    "        ctr=ctr+1\n",
    "print(\"count number of lower case letters in full name \",ctr)"
   ]
  },
  {
   "cell_type": "code",
   "execution_count": 27,
   "id": "92ed551a",
   "metadata": {},
   "outputs": [
    {
     "name": "stdout",
     "output_type": "stream",
     "text": [
      "count number of special case chars in full name  1\n"
     ]
    }
   ],
   "source": [
    "#count number of special chars in full name\n",
    "a=\"Anu Agalya\"\n",
    "ctr = 0\n",
    "for i in a:\n",
    "    if not i.isalnum():\n",
    "        ctr=ctr+1\n",
    "print(\"count number of special case chars in full name \",ctr)"
   ]
  },
  {
   "cell_type": "code",
   "execution_count": 28,
   "id": "e0e2b5e3",
   "metadata": {},
   "outputs": [
    {
     "name": "stdout",
     "output_type": "stream",
     "text": [
      "count number of spaces in full name  1\n"
     ]
    }
   ],
   "source": [
    "#4. count number of spaces in full name\n",
    "a=\"Anu Agalya\"\n",
    "ctr = 0\n",
    "for i in a:\n",
    "    if i.isspace():\n",
    "        ctr=ctr+1\n",
    "print(\"count number of spaces in full name \",ctr)"
   ]
  },
  {
   "cell_type": "code",
   "execution_count": 32,
   "id": "c1236eb3",
   "metadata": {},
   "outputs": [
    {
     "name": "stdout",
     "output_type": "stream",
     "text": [
      "count number of digits in full name  3\n"
     ]
    }
   ],
   "source": [
    "# 5. count number of digits in full name\n",
    "a=\"Anu Agalya123\"\n",
    "ctr = 0\n",
    "for i in a:\n",
    "    #if i.isnumeric():\n",
    "    if i.isdigit():\n",
    "        ctr=ctr+1\n",
    "print(\"count number of digits in full name \",ctr)"
   ]
  },
  {
   "cell_type": "code",
   "execution_count": 51,
   "id": "dd56f276",
   "metadata": {},
   "outputs": [
    {
     "name": "stdout",
     "output_type": "stream",
     "text": [
      "Even elements middle value:  Ag\n"
     ]
    }
   ],
   "source": [
    "#6. find middle element of full name. if number of elements in full name is odd, print one middle element if number of elements are even print 2 middle elements\n",
    "a=\"Anu Agalya\"\n",
    "b=len(a)\n",
    "c=int(b/2)\n",
    "if (b%2 != 0):\n",
    "    print(\"Odd elements middle value: \",a[c])\n",
    "else:\n",
    "    print(\"Even elements middle value: \", a[c-1:c+1])   \n",
    "          "
   ]
  },
  {
   "cell_type": "code",
   "execution_count": 55,
   "id": "d52a204a",
   "metadata": {},
   "outputs": [
    {
     "name": "stdout",
     "output_type": "stream",
     "text": [
      "count vowels in string :  0\n"
     ]
    }
   ],
   "source": [
    "#7. count vowels in string. vowels can be in upper or lower case\n",
    "a='InstitutiOn'\n",
    "ctr =0\n",
    "for i in a:\n",
    "    #if (i.lower()=='a' or i.lower()=='e' or i.lower()=='i' or i.lower()=='o' or i.lower()=='u'):\n",
    "    #if i.upper() in 'AEIOU':\n",
    "    if i.lower() in 'aeiou':\n",
    "        ctr=ctr+1\n",
    "print(\"count vowels in string : \", ctr)\n",
    "    "
   ]
  },
  {
   "cell_type": "code",
   "execution_count": 45,
   "id": "294ecdfa",
   "metadata": {},
   "outputs": [
    {
     "name": "stdout",
     "output_type": "stream",
     "text": [
      "ASCII value of char which is highest :  117\n"
     ]
    }
   ],
   "source": [
    "#8. print ASCII value of char which is highest\n",
    "a='anu'\n",
    "l=[]\n",
    "for i in a:\n",
    "    b=ord(i)\n",
    "    l.append(b)\n",
    "print(\"ASCII value of char which is highest : \", max(l))\n"
   ]
  },
  {
   "cell_type": "code",
   "execution_count": 46,
   "id": "85d4f15f",
   "metadata": {},
   "outputs": [
    {
     "name": "stdout",
     "output_type": "stream",
     "text": [
      "ASCII value of char which is lowest :  97\n"
     ]
    }
   ],
   "source": [
    "#9. print ASCII value of char which is lowest\"\"\"\n",
    "a='agalya'\n",
    "l=[]\n",
    "for i in a:\n",
    "    b=ord(i)\n",
    "    l.append(b)\n",
    "print(\"ASCII value of char which is lowest : \", min(l))"
   ]
  },
  {
   "cell_type": "code",
   "execution_count": null,
   "id": "ac3fdd6a",
   "metadata": {},
   "outputs": [],
   "source": []
  }
 ],
 "metadata": {
  "kernelspec": {
   "display_name": "Python 3",
   "language": "python",
   "name": "python3"
  },
  "language_info": {
   "codemirror_mode": {
    "name": "ipython",
    "version": 3
   },
   "file_extension": ".py",
   "mimetype": "text/x-python",
   "name": "python",
   "nbconvert_exporter": "python",
   "pygments_lexer": "ipython3",
   "version": "3.8.8"
  }
 },
 "nbformat": 4,
 "nbformat_minor": 5
}
