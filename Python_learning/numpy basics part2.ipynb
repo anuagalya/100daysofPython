{
 "cells": [
  {
   "cell_type": "code",
   "execution_count": 2,
   "id": "73fc3c6b",
   "metadata": {},
   "outputs": [
    {
     "name": "stdout",
     "output_type": "stream",
     "text": [
      "binary representation of a: 0b1010\n",
      "binary representation of b: 0b1100\n",
      "binary representation of b: 0b1000\n",
      "Bitwise-and of a and b:  8\n"
     ]
    }
   ],
   "source": [
    "import numpy as np  \n",
    "  \n",
    "a = 10  \n",
    "b = 12  \n",
    "c= 8\n",
    "  \n",
    "print(\"binary representation of a:\",bin(a))  \n",
    "print(\"binary representation of b:\",bin(b))  \n",
    "print(\"binary representation of b:\",bin(c))  \n",
    "print(\"Bitwise-and of a and b: \",np.bitwise_and(a,b))  "
   ]
  },
  {
   "cell_type": "code",
   "execution_count": 3,
   "id": "fa03e909",
   "metadata": {},
   "outputs": [
    {
     "name": "stdout",
     "output_type": "stream",
     "text": [
      "binary representation of a: 0b110010\n",
      "binary representation of b: 0b1011010\n",
      "Bitwise-or of a and b:  122\n"
     ]
    }
   ],
   "source": [
    "import numpy as np  \n",
    "  \n",
    "a = 50  \n",
    "b = 90  \n",
    "print(\"binary representation of a:\",bin(a))  \n",
    "print(\"binary representation of b:\",bin(b))  \n",
    "print(\"Bitwise-or of a and b: \",np.bitwise_or(a,b))  "
   ]
  },
  {
   "cell_type": "code",
   "execution_count": 4,
   "id": "baebdc0c",
   "metadata": {},
   "outputs": [
    {
     "name": "stdout",
     "output_type": "stream",
     "text": [
      "Binary representation: 00010100\n",
      "[235]\n",
      "Binary representation:  11101011\n"
     ]
    }
   ],
   "source": [
    "import numpy as np  \n",
    "  \n",
    "arr = np.array([20],dtype = np.uint8)  \n",
    "print(\"Binary representation:\",np.binary_repr(20,8))  \n",
    "  \n",
    "print(np.invert(arr))  \n",
    "  \n",
    "print(\"Binary representation: \", np.binary_repr(235,8))  "
   ]
  },
  {
   "cell_type": "code",
   "execution_count": 5,
   "id": "0322a9f9",
   "metadata": {},
   "outputs": [
    {
     "name": "stdout",
     "output_type": "stream",
     "text": [
      "left shift of 20 by 3 bits 160\n",
      "Binary representation of 20 in 8 bits 00010100\n",
      "Binary representation of 160 in 8 bits 10100000\n"
     ]
    }
   ],
   "source": [
    "import numpy as np  \n",
    "  \n",
    "print(\"left shift of 20 by 3 bits\",np.left_shift(20, 3))  \n",
    "  \n",
    "print(\"Binary representation of 20 in 8 bits\",np.binary_repr(20, 8))  \n",
    "  \n",
    "print(\"Binary representation of 160 in 8 bits\",np.binary_repr(160,8))  "
   ]
  },
  {
   "cell_type": "code",
   "execution_count": 6,
   "id": "0e285edd",
   "metadata": {},
   "outputs": [
    {
     "name": "stdout",
     "output_type": "stream",
     "text": [
      "Concatenating two string arrays:\n",
      "['welcome to Javatpoint' 'Hi read python']\n"
     ]
    }
   ],
   "source": [
    "import numpy as np   \n",
    "print(\"Concatenating two string arrays:\")  \n",
    "print(np.char.add(['welcome','Hi'], [' to Javatpoint', ' read python'] ))  "
   ]
  },
  {
   "cell_type": "code",
   "execution_count": 7,
   "id": "1afb6eae",
   "metadata": {},
   "outputs": [
    {
     "name": "stdout",
     "output_type": "stream",
     "text": [
      "Printing a string multiple times:\n",
      "hello hello hello \n"
     ]
    }
   ],
   "source": [
    "import numpy as np   \n",
    "print(\"Printing a string multiple times:\")  \n",
    "print(np.char.multiply(\"hello \",3))  "
   ]
  },
  {
   "cell_type": "code",
   "execution_count": 8,
   "id": "e6eddc3f",
   "metadata": {},
   "outputs": [
    {
     "name": "stdout",
     "output_type": "stream",
     "text": [
      "Padding the string through left and right with the fill char *\n",
      "*****Javatpoint*****\n"
     ]
    }
   ],
   "source": [
    "import numpy as np   \n",
    "print(\"Padding the string through left and right with the fill char *\");  \n",
    "#np.char.center(string, width, fillchar)  \n",
    "print(np.char.center(\"Javatpoint\", 20, '*'))  "
   ]
  },
  {
   "cell_type": "code",
   "execution_count": 9,
   "id": "ce4295d4",
   "metadata": {},
   "outputs": [
    {
     "name": "stdout",
     "output_type": "stream",
     "text": [
      "Capitalizing the string using capitalize()...\n",
      "Welcome to javatpoint\n"
     ]
    }
   ],
   "source": [
    "import numpy as np   \n",
    "print(\"Capitalizing the string using capitalize()...\")  \n",
    "print(np.char.capitalize(\"welcome to javatpoint\"))  "
   ]
  },
  {
   "cell_type": "code",
   "execution_count": 10,
   "id": "7900907e",
   "metadata": {},
   "outputs": [
    {
     "name": "stdout",
     "output_type": "stream",
     "text": [
      "Converting string into title cased version...\n",
      "Welcome To Javatpoint\n"
     ]
    }
   ],
   "source": [
    "import numpy as np   \n",
    "print(\"Converting string into title cased version...\")  \n",
    "print(np.char.title(\"welcome to javatpoint\"))  "
   ]
  },
  {
   "cell_type": "code",
   "execution_count": 11,
   "id": "f50720b0",
   "metadata": {},
   "outputs": [
    {
     "name": "stdout",
     "output_type": "stream",
     "text": [
      "Converting all the characters of the string into lowercase...\n",
      "welcome to javatpoint\n"
     ]
    }
   ],
   "source": [
    "import numpy as np   \n",
    "print(\"Converting all the characters of the string into lowercase...\")  \n",
    "print(np.char.lower(\"WELCOME TO JAVATPOINT\"))  "
   ]
  },
  {
   "cell_type": "code",
   "execution_count": 12,
   "id": "e66eff04",
   "metadata": {},
   "outputs": [
    {
     "name": "stdout",
     "output_type": "stream",
     "text": [
      "Converting all the characters of the string into uppercase...\n",
      "WELCOME TO JAVATPOINT\n"
     ]
    }
   ],
   "source": [
    "import numpy as np   \n",
    "print(\"Converting all the characters of the string into uppercase...\")  \n",
    "print(np.char.upper(\"Welcome To Javatpoint\"))  "
   ]
  },
  {
   "cell_type": "code",
   "execution_count": 13,
   "id": "746a667d",
   "metadata": {},
   "outputs": [
    {
     "name": "stdout",
     "output_type": "stream",
     "text": [
      "Splitting the String word by word..\n",
      "['Welcome', 'To', 'Javatpoint']\n"
     ]
    }
   ],
   "source": [
    "import numpy as np   \n",
    "print(\"Splitting the String word by word..\")  \n",
    "print(np.char.split(\"Welcome To Javatpoint\"),sep = \" \")  "
   ]
  },
  {
   "cell_type": "code",
   "execution_count": 14,
   "id": "0c7cf7c6",
   "metadata": {},
   "outputs": [
    {
     "name": "stdout",
     "output_type": "stream",
     "text": [
      "Splitting the String line by line..\n",
      "Welcome\n",
      "To\n",
      "Javatpoint\n",
      "['Welcome', 'To', 'Javatpoint']\n"
     ]
    }
   ],
   "source": [
    "import numpy as np   \n",
    "print(\"Splitting the String line by line..\")  \n",
    "print(\"Welcome\\nTo\\nJavatpoint\")\n",
    "print(np.char.splitlines(\"Welcome\\nTo\\nJavatpoint\"))  "
   ]
  },
  {
   "cell_type": "code",
   "execution_count": 15,
   "id": "5e3f444b",
   "metadata": {},
   "outputs": [
    {
     "name": "stdout",
     "output_type": "stream",
     "text": [
      "Original String:      welcome to javatpoint     \n",
      "Removing the leading and trailing whitespaces from the string\n",
      "welcome to javatpoint\n"
     ]
    }
   ],
   "source": [
    "import numpy as np   \n",
    "str = \"     welcome to javatpoint     \"  \n",
    "print(\"Original String:\",str)  \n",
    "print(\"Removing the leading and trailing whitespaces from the string\")  \n",
    "print(np.char.strip(str))  "
   ]
  },
  {
   "cell_type": "code",
   "execution_count": 17,
   "id": "75bc6243",
   "metadata": {},
   "outputs": [
    {
     "name": "stdout",
     "output_type": "stream",
     "text": [
      "H:a:m:m:a:l:s:k:M\n"
     ]
    }
   ],
   "source": [
    "import numpy as np   \n",
    "print(np.char.join(':','HammalskM'))  "
   ]
  },
  {
   "cell_type": "code",
   "execution_count": 19,
   "id": "562a45aa",
   "metadata": {},
   "outputs": [
    {
     "name": "stdout",
     "output_type": "stream",
     "text": [
      "Original String: Welcome to Javatpoint\n",
      "Modified String: www.Javatpoint\n"
     ]
    }
   ],
   "source": [
    "import numpy as np  \n",
    "str = \"Welcome to Javatpoint\"  \n",
    "print(\"Original String:\",str)  \n",
    "print(\"Modified String:\",end=\" \")  \n",
    "print(np.char.replace(str, \"Welcome to \",\"www.\"))  "
   ]
  },
  {
   "cell_type": "code",
   "execution_count": 20,
   "id": "1988c3dc",
   "metadata": {},
   "outputs": [
    {
     "name": "stdout",
     "output_type": "stream",
     "text": [
      "b'\\xa6\\x85\\x93\\x83\\x96\\x94\\x85@\\xa3\\x96@\\x91\\x81\\xa5\\x81\\xa3\\x97\\x96\\x89\\x95\\xa3'\n",
      "welcome to javatpoint\n"
     ]
    }
   ],
   "source": [
    "import numpy as np  \n",
    "enstr = np.char.encode(\"welcome to javatpoint\", 'cp500')  \n",
    "dstr =np.char.decode(enstr, 'cp500')  \n",
    "print(enstr)  \n",
    "print(dstr) "
   ]
  },
  {
   "cell_type": "code",
   "execution_count": 26,
   "id": "3d43a28d",
   "metadata": {},
   "outputs": [
    {
     "name": "stdout",
     "output_type": "stream",
     "text": [
      "0.017453292519943295\n",
      "\n",
      "The sin value of the angles [0.00000000e+00 5.00000000e-01 8.66025404e-01 1.00000000e+00\n",
      " 8.66025404e-01 5.00000000e-01 1.22464680e-16]\n",
      "\n",
      "The cosine value of the angles [ 1.00000000e+00  8.66025404e-01  5.00000000e-01  6.12323400e-17\n",
      " -5.00000000e-01 -8.66025404e-01 -1.00000000e+00]\n",
      "\n",
      "The tangent value of the angles [ 0.00000000e+00  5.77350269e-01  1.73205081e+00  1.63312394e+16\n",
      " -1.73205081e+00 -5.77350269e-01 -1.22464680e-16]\n"
     ]
    }
   ],
   "source": [
    "import numpy as np  \n",
    "arr = np.array([0, 30, 60, 90, 120, 150, 180]) \n",
    "print(np.pi/180)\n",
    "print(\"\\nThe sin value of the angles\",end = \" \")  \n",
    "print(np.sin(arr * np.pi/180))  \n",
    "print(\"\\nThe cosine value of the angles\",end = \" \")  \n",
    "print(np.cos(arr * np.pi/180))  \n",
    "print(\"\\nThe tangent value of the angles\",end = \" \")  \n",
    "print(np.tan(arr * np.pi/180))  "
   ]
  },
  {
   "cell_type": "code",
   "execution_count": 27,
   "id": "12832143",
   "metadata": {},
   "outputs": [
    {
     "name": "stdout",
     "output_type": "stream",
     "text": [
      "printing the sin values of different angles\n",
      "[0.        0.5       0.8660254 1.       ]\n",
      "printing the inverse of the sin\n",
      "[0.         0.52359878 1.04719755 1.57079633]\n",
      "printing the values in degrees\n",
      "[ 0. 30. 60. 90.]\n",
      "\n",
      "printing the cos values of different angles\n",
      "[1.00000000e+00 8.66025404e-01 5.00000000e-01 6.12323400e-17]\n",
      "printing the inverse of the cos\n",
      "[0.         0.52359878 1.04719755 1.57079633]\n",
      "\n",
      "printing the values in degrees\n",
      "[ 0. 30. 60. 90.]\n",
      "\n",
      "printing the tan values of different angles\n",
      "[0.00000000e+00 5.77350269e-01 1.73205081e+00 1.63312394e+16]\n",
      "printing the inverse of the tan\n",
      "[0.         0.52359878 1.04719755 1.57079633]\n",
      "\n",
      "printing the values in degrees\n",
      "[ 0. 30. 60. 90.]\n"
     ]
    }
   ],
   "source": [
    "import numpy as np  \n",
    "arr = np.array([0, 30, 60, 90])  \n",
    "print(\"printing the sin values of different angles\")  \n",
    "  \n",
    "sinval = np.sin(arr*np.pi/180)  \n",
    "  \n",
    "print(sinval)  \n",
    "print(\"printing the inverse of the sin\")  \n",
    "cosec = np.arcsin(sinval)  \n",
    "  \n",
    "print(cosec)  \n",
    "  \n",
    "print(\"printing the values in degrees\")  \n",
    "print(np.degrees(cosec))  \n",
    "  \n",
    "print(\"\\nprinting the cos values of different angles\")  \n",
    "cosval = np.cos(arr*np.pi/180)  \n",
    "  \n",
    "print(cosval)  \n",
    "print(\"printing the inverse of the cos\")  \n",
    "sec = np.arccos(cosval)  \n",
    "print(sec)  \n",
    "  \n",
    "print(\"\\nprinting the values in degrees\")  \n",
    "print(np.degrees(sec))  \n",
    "  \n",
    "print(\"\\nprinting the tan values of different angles\")  \n",
    "tanval = np.tan(arr*np.pi/180)  \n",
    "  \n",
    "print(tanval)  \n",
    "print(\"printing the inverse of the tan\")  \n",
    "cot = np.arctan(tanval)  \n",
    "print(cot)  \n",
    "  \n",
    "print(\"\\nprinting the values in degrees\")  \n",
    "print(np.degrees(cot))  "
   ]
  },
  {
   "cell_type": "code",
   "execution_count": 29,
   "id": "f10849a7",
   "metadata": {},
   "outputs": [
    {
     "name": "stdout",
     "output_type": "stream",
     "text": [
      "printing the original array values: [ 12.202   90.2312 129.02    23.202 ]\n",
      "Array values rounded off to 2 decimal position [ 12.2   90.23 129.02  23.2 ]\n",
      "Array values rounded off to -1 decimal position [ 10.  90. 130.  20.]\n"
     ]
    }
   ],
   "source": [
    "import numpy as np  \n",
    "arr = np.array([12.202, 90.23120, 129.020, 23.202])  \n",
    "print(\"printing the original array values:\",end = \" \")  \n",
    "print(arr)  \n",
    "print(\"Array values rounded off to 2 decimal position\",np.around(arr, 2))  \n",
    "print(\"Array values rounded off to -1 decimal position\",np.around(arr, -1))  "
   ]
  },
  {
   "cell_type": "code",
   "execution_count": 30,
   "id": "70fed865",
   "metadata": {},
   "outputs": [
    {
     "name": "stdout",
     "output_type": "stream",
     "text": [
      "[ 12.  90. 129.  23.]\n"
     ]
    }
   ],
   "source": [
    "import numpy as np  \n",
    "arr = np.array([12.202, 90.23120, 129.020, 23.202])  \n",
    "print(np.floor(arr))  "
   ]
  },
  {
   "cell_type": "code",
   "execution_count": 31,
   "id": "a6df5190",
   "metadata": {},
   "outputs": [
    {
     "name": "stdout",
     "output_type": "stream",
     "text": [
      "[ 13.  91. 124.  24.]\n"
     ]
    }
   ],
   "source": [
    "import numpy as np  \n",
    "arr = np.array([12.202, 90.23120, 123.020, 23.202])  \n",
    "print(np.ceil(arr))  "
   ]
  },
  {
   "cell_type": "code",
   "execution_count": 32,
   "id": "87461ce4",
   "metadata": {},
   "outputs": [
    {
     "name": "stdout",
     "output_type": "stream",
     "text": [
      "The original array:\n",
      "\n",
      "[[ 2 10 20]\n",
      " [80 43 31]\n",
      " [22 43 10]]\n",
      "\n",
      "The minimum element among the array: 2\n",
      "The maximum element among the array: 80\n",
      "\n",
      "The minimum element among the rows of array [ 2 10 10]\n",
      "The maximum element among the rows of array [80 43 31]\n",
      "\n",
      "The minimum element among the columns of array [ 2 31 10]\n",
      "The maximum element among the columns of array [20 80 43]\n"
     ]
    }
   ],
   "source": [
    "import numpy as np  \n",
    "  \n",
    "a = np.array([[2,10,20],[80,43,31],[22,43,10]])  \n",
    "  \n",
    "print(\"The original array:\\n\")  \n",
    "print(a)  \n",
    "  \n",
    "print(\"\\nThe minimum element among the array:\",np.amin(a))  \n",
    "print(\"The maximum element among the array:\",np.amax(a))  \n",
    "  \n",
    "print(\"\\nThe minimum element among the rows of array\",np.amin(a,0))  \n",
    "print(\"The maximum element among the rows of array\",np.amax(a,0))  \n",
    "  \n",
    "print(\"\\nThe minimum element among the columns of array\",np.amin(a,1))  \n",
    "print(\"The maximum element among the columns of array\",np.amax(a,1)) "
   ]
  },
  {
   "cell_type": "code",
   "execution_count": 33,
   "id": "ec9e778a",
   "metadata": {},
   "outputs": [
    {
     "name": "stdout",
     "output_type": "stream",
     "text": [
      "Original array:\n",
      " [[ 2 10 20]\n",
      " [80 43 31]\n",
      " [22 43 10]]\n",
      "\n",
      "ptp value along axis 1: [18 49 33]\n",
      "ptp value along axis 0: [78 33 21]\n"
     ]
    }
   ],
   "source": [
    "import numpy as np  \n",
    "  \n",
    "a = np.array([[2,10,20],[80,43,31],[22,43,10]])  \n",
    "  \n",
    "print(\"Original array:\\n\",a)  \n",
    "  \n",
    "print(\"\\nptp value along axis 1:\",np.ptp(a,1))  \n",
    "  \n",
    "print(\"ptp value along axis 0:\",np.ptp(a,0))  "
   ]
  },
  {
   "cell_type": "code",
   "execution_count": 37,
   "id": "03344a97",
   "metadata": {},
   "outputs": [
    {
     "name": "stdout",
     "output_type": "stream",
     "text": [
      "Array:\n",
      " [[ 2 10 20]\n",
      " [80 43 31]\n",
      " [22 43 10]]\n",
      "\n",
      "Percentile along axis 0 [ 6.  16.6 12. ]\n",
      "Percentile along axis 1 [ 3.6 33.4 12.4]\n"
     ]
    }
   ],
   "source": [
    "import numpy as np  \n",
    "  \n",
    "a = np.array([[2,10,20],[80,43,31],[22,43,10]])  \n",
    "  \n",
    "print(\"Array:\\n\",a)  \n",
    "  \n",
    "print(\"\\nPercentile along axis 0\",np.percentile(a, 10,0))  \n",
    "  \n",
    "print(\"Percentile along axis 1\",np.percentile(a, 10, 1))  "
   ]
  },
  {
   "cell_type": "code",
   "execution_count": 38,
   "id": "df76938e",
   "metadata": {},
   "outputs": [
    {
     "name": "stdout",
     "output_type": "stream",
     "text": [
      "Array:\n",
      " [[1 2 3]\n",
      " [4 5 6]\n",
      " [7 8 9]]\n",
      "\n",
      "Median of array along axis 0: [4. 5. 6.]\n",
      "Mean of array along axis 0: [4. 5. 6.]\n",
      "Average of array along axis 1: [2. 5. 8.]\n"
     ]
    }
   ],
   "source": [
    "import numpy as np  \n",
    "  \n",
    "a = np.array([[1,2,3],[4,5,6],[7,8,9]])  \n",
    "  \n",
    "print(\"Array:\\n\",a)  \n",
    "  \n",
    "print(\"\\nMedian of array along axis 0:\",np.median(a,0))  \n",
    "print(\"Mean of array along axis 0:\",np.mean(a,0))  \n",
    "print(\"Average of array along axis 1:\",np.average(a,1))  "
   ]
  },
  {
   "cell_type": "code",
   "execution_count": 39,
   "id": "8da688c9",
   "metadata": {},
   "outputs": [
    {
     "name": "stdout",
     "output_type": "stream",
     "text": [
      "Sorting along the columns:\n",
      "[[ 2  3 10]\n",
      " [ 4  5  6]\n",
      " [ 7  8  9]]\n",
      "Sorting along the rows:\n",
      "[[ 4  2  3]\n",
      " [ 7  5  6]\n",
      " [10  8  9]]\n",
      "Sorting data ordered by name\n",
      "[(b'John', 251) (b'Mukesh', 200)]\n"
     ]
    }
   ],
   "source": [
    "import numpy as np  \n",
    "  \n",
    "a = np.array([[10,2,3],[4,5,6],[7,8,9]])  \n",
    "  \n",
    "print(\"Sorting along the columns:\")  \n",
    "print(np.sort(a))  \n",
    "  \n",
    "print(\"Sorting along the rows:\")  \n",
    "print(np.sort(a, 0))  \n",
    "  \n",
    "data_type = np.dtype([('name', 'S10'),('marks',int)])  \n",
    "  \n",
    "arr = np.array([('Mukesh',200),('John',251)],dtype = data_type)  \n",
    "  \n",
    "print(\"Sorting data ordered by name\")  \n",
    "  \n",
    "print(np.sort(arr,order = 'name'))  "
   ]
  },
  {
   "cell_type": "code",
   "execution_count": 41,
   "id": "f9f3971a",
   "metadata": {},
   "outputs": [
    {
     "name": "stdout",
     "output_type": "stream",
     "text": [
      "Original array:\n",
      " [90 29 89 12]\n",
      "Printing indices of sorted data\n",
      " [3 1 2 0]\n",
      "[12 29 89 90]\n",
      "printing sorted array\n",
      "12 29 89 90 "
     ]
    }
   ],
   "source": [
    "import numpy as np  \n",
    "  \n",
    "a = np.array([90, 29, 89, 12])  \n",
    "  \n",
    "print(\"Original array:\\n\",a)  \n",
    "  \n",
    "sort_ind = np.argsort(a)  \n",
    "  \n",
    "print(\"Printing indices of sorted data\\n\",sort_ind)  \n",
    "  \n",
    "sort_a = a[sort_ind]  \n",
    "print(sort_a)\n",
    "  \n",
    "print(\"printing sorted array\")  \n",
    "  \n",
    "for i in sort_ind:  \n",
    "    print(a[i],end = \" \")  "
   ]
  },
  {
   "cell_type": "code",
   "execution_count": 47,
   "id": "43b494b1",
   "metadata": {},
   "outputs": [
    {
     "name": "stdout",
     "output_type": "stream",
     "text": [
      "0\n",
      "0\n",
      "printing indices of sorted data\n",
      "[0 3 1 4 2]\n",
      "using the indices to sort the array\n",
      "a 12\n",
      "d 12\n",
      "b 90\n",
      "e 211\n",
      "c 380\n"
     ]
    }
   ],
   "source": [
    "import numpy as np  \n",
    "  \n",
    "a = np.array(['a','b','c','d','e'])  \n",
    "  \n",
    "b = np.array([12, 90, 380, 12, 211])  \n",
    "  \n",
    "ind = np.lexsort((a,b))  \n",
    "print(np.lexsort(a) )\n",
    "print(np.lexsort(b) )\n",
    "  \n",
    "print(\"printing indices of sorted data\")  \n",
    "  \n",
    "print(ind)  \n",
    "  \n",
    "print(\"using the indices to sort the array\")  \n",
    "  \n",
    "for i in ind:  \n",
    "    print(a[i],b[i])  "
   ]
  },
  {
   "cell_type": "code",
   "execution_count": 48,
   "id": "8e213d9a",
   "metadata": {},
   "outputs": [
    {
     "name": "stdout",
     "output_type": "stream",
     "text": [
      "0\n",
      "0\n",
      "printing indices of sorted data\n",
      "[0 3 1 4 2]\n",
      "using the indices to sort the array\n",
      "a 12\n",
      "d 12\n",
      "b 90\n",
      "c 211\n",
      "e 380\n"
     ]
    }
   ],
   "source": [
    "import numpy as np  \n",
    "  \n",
    "a = np.array(['a','b','e','d','c'])  \n",
    "  \n",
    "b = np.array([12, 90, 380, 12, 211])  \n",
    "  \n",
    "ind = np.lexsort((a,b))  \n",
    "print(np.lexsort(a) )\n",
    "print(np.lexsort(b) )\n",
    "  \n",
    "print(\"printing indices of sorted data\")  \n",
    "  \n",
    "print(ind)  \n",
    "  \n",
    "print(\"using the indices to sort the array\")  \n",
    "  \n",
    "for i in ind:  \n",
    "    print(a[i],b[i])  "
   ]
  },
  {
   "cell_type": "code",
   "execution_count": 49,
   "id": "d4e3aa15",
   "metadata": {},
   "outputs": [
    {
     "name": "stdout",
     "output_type": "stream",
     "text": [
      "printing original array [ 12  90 380  12 211]\n",
      "printing location of the non-zero elements\n",
      "(array([0, 1, 2, 3, 4], dtype=int64),)\n"
     ]
    }
   ],
   "source": [
    "import numpy as np  \n",
    "  \n",
    "b = np.array([12, 90, 380, 12, 211])  \n",
    "  \n",
    "print(\"printing original array\",b)  \n",
    "  \n",
    "print(\"printing location of the non-zero elements\")  \n",
    "  \n",
    "print(b.nonzero()) "
   ]
  },
  {
   "cell_type": "code",
   "execution_count": 50,
   "id": "cca54a30",
   "metadata": {},
   "outputs": [
    {
     "name": "stdout",
     "output_type": "stream",
     "text": [
      "(array([1, 2, 4], dtype=int64),)\n",
      "(array([0, 1, 1], dtype=int64), array([1, 0, 1], dtype=int64))\n"
     ]
    }
   ],
   "source": [
    "import numpy as np  \n",
    "  \n",
    "b = np.array([12, 90, 380, 12, 211])  \n",
    "  \n",
    "print(np.where(b>12))  \n",
    "  \n",
    "c = np.array([[20, 24],[21, 23]])  \n",
    "  \n",
    "print(np.where(c>20))  "
   ]
  },
  {
   "cell_type": "code",
   "execution_count": null,
   "id": "e46e60e9",
   "metadata": {},
   "outputs": [],
   "source": []
  }
 ],
 "metadata": {
  "kernelspec": {
   "display_name": "Python 3",
   "language": "python",
   "name": "python3"
  },
  "language_info": {
   "codemirror_mode": {
    "name": "ipython",
    "version": 3
   },
   "file_extension": ".py",
   "mimetype": "text/x-python",
   "name": "python",
   "nbconvert_exporter": "python",
   "pygments_lexer": "ipython3",
   "version": "3.8.8"
  }
 },
 "nbformat": 4,
 "nbformat_minor": 5
}
