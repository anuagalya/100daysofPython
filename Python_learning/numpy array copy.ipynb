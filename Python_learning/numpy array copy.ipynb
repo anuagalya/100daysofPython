{
 "cells": [
  {
   "cell_type": "code",
   "execution_count": 3,
   "id": "4a9ddc46",
   "metadata": {},
   "outputs": [
    {
     "name": "stdout",
     "output_type": "stream",
     "text": [
      "Original Array:\n",
      " [[ 1  2  3  4]\n",
      " [ 9  0  2  3]\n",
      " [ 1  2  3 19]]\n",
      "\n",
      "ID of array a: 2422573682240\n",
      "\n",
      "making copy of the array a\n",
      "\n",
      "ID of b: 2422573682240\n",
      "[[ 1  2  3  4]\n",
      " [ 9  0  2  3]\n",
      " [ 1  2  3 19]]\n",
      "[[ 1  2  3]\n",
      " [ 4  9  0]\n",
      " [ 2  3  1]\n",
      " [ 2  3 19]]\n",
      "\n",
      "Changes on b also reflect to a:\n",
      "[[ 1  2  3]\n",
      " [ 4  9  0]\n",
      " [ 2  3  1]\n",
      " [ 2  3 19]]\n"
     ]
    }
   ],
   "source": [
    "import numpy as np  \n",
    "  \n",
    "a = np.array([[1,2,3,4],[9,0,2,3],[1,2,3,19]])  \n",
    "  \n",
    "print(\"Original Array:\\n\",a)  \n",
    "  \n",
    "print(\"\\nID of array a:\",id(a))  \n",
    "  \n",
    "b = a   \n",
    "  \n",
    "print(\"\\nmaking copy of the array a\")  \n",
    "  \n",
    "print(\"\\nID of b:\",id(b))  \n",
    "print(b)\n",
    "  \n",
    "b.shape = 4,3;  \n",
    "print(b)  \n",
    "print(\"\\nChanges on b also reflect to a:\")  \n",
    "print(a)  "
   ]
  },
  {
   "cell_type": "code",
   "execution_count": null,
   "id": "0474be35",
   "metadata": {},
   "outputs": [],
   "source": []
  }
 ],
 "metadata": {
  "kernelspec": {
   "display_name": "Python 3",
   "language": "python",
   "name": "python3"
  },
  "language_info": {
   "codemirror_mode": {
    "name": "ipython",
    "version": 3
   },
   "file_extension": ".py",
   "mimetype": "text/x-python",
   "name": "python",
   "nbconvert_exporter": "python",
   "pygments_lexer": "ipython3",
   "version": "3.8.8"
  }
 },
 "nbformat": 4,
 "nbformat_minor": 5
}
