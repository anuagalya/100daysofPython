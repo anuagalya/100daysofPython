{
 "cells": [
  {
   "cell_type": "code",
   "execution_count": 3,
   "id": "908f3fb8",
   "metadata": {},
   "outputs": [
    {
     "name": "stdout",
     "output_type": "stream",
     "text": [
      "['Delhi', 'mumbai', 'chennai', 'Jaipur', 'Red fort', 'Gateway of India', 'Marina Beach', 'Ameer Fort']\n",
      "Delhi has an attraction Red fort\n",
      "mumbai has an attraction Gateway of India\n",
      "chennai has an attraction Marina Beach\n",
      "Jaipur has an attraction Ameer Fort\n"
     ]
    }
   ],
   "source": [
    "places = ['Delhi', 'mumbai', 'chennai', 'Jaipur']\n",
    "attractions = ['Red fort','Gateway of India','Marina Beach','Ameer Fort']\n",
    "new_l = places+attractions\n",
    "print(new_l)\n",
    "for i in range(0,len(places)):\n",
    "    print(f\"{places[i]} has an attraction {attractions[i]}\")"
   ]
  },
  {
   "cell_type": "code",
   "execution_count": 6,
   "id": "fe1bef28",
   "metadata": {},
   "outputs": [
    {
     "name": "stdout",
     "output_type": "stream",
     "text": [
      "Enter place to get attraction : jaipur\n",
      "Ameer Fort\n"
     ]
    }
   ],
   "source": [
    "places = ['delhi', 'mumbai', 'chennai', 'jaipur']\n",
    "attractions = ['Red fort','Gateway of India','Marina Beach','Ameer Fort']\n",
    "user_inp = str(input(\"Enter place to get attraction : \"))\n",
    "use_inp_l = user_inp.lower()\n",
    "ind = places.index(use_inp_l)\n",
    "print(attractions[ind])"
   ]
  },
  {
   "cell_type": "code",
   "execution_count": 9,
   "id": "557c7fad",
   "metadata": {},
   "outputs": [
    {
     "name": "stdout",
     "output_type": "stream",
     "text": [
      "{'emp_id': '11L204,11E76', 'name': 'AA,KK'}\n",
      "dict_keys(['emp_id', 'name'])\n",
      "dict_values(['11L204,11E76', 'AA,KK'])\n"
     ]
    }
   ],
   "source": [
    "d = {'emp_id' : '11L204,11E76','name':'AA,KK'}\n",
    "print(d)\n",
    "print(d.keys())\n",
    "print(d.values())"
   ]
  },
  {
   "cell_type": "code",
   "execution_count": 4,
   "id": "cd60d73a",
   "metadata": {},
   "outputs": [
    {
     "name": "stdout",
     "output_type": "stream",
     "text": [
      "Enter any user id from 1 to 998 : -1\n",
      "Id not found\n"
     ]
    }
   ],
   "source": [
    "class my_dictionary(dict):\n",
    "  \n",
    "    # __init__ function\n",
    "    def __init__(self):\n",
    "        self = dict()\n",
    "          \n",
    "    # Function to add key:value\n",
    "    def add(self, key, value):\n",
    "        self[key] = value\n",
    "  \n",
    "# Main Function\n",
    "import random\n",
    "def name():\n",
    "    letter = ['a','b','c','d','e','f','g','h','i','j','k']\n",
    "    name = \"\"\n",
    "    letc = random.randint(3,9)\n",
    "    for i in range(0,letc):\n",
    "        let = random.choice(letter)\n",
    "        name = name+let\n",
    "    return name\n",
    "dict_obj = my_dictionary()\n",
    "i =1\n",
    "while  i <999:\n",
    "    dict_obj.add(i, name())\n",
    "    i +=1\n",
    "#print(dict_obj)\n",
    "user_inp = int(input(\"Enter any user id from 1 to 998 : \"))\n",
    "x = dict_obj.get(user_inp)\n",
    "if user_inp<1 or user_inp>998:\n",
    "    print(\"Id not found\")\n",
    "else:\n",
    "    print(x)\n"
   ]
  },
  {
   "cell_type": "code",
   "execution_count": 44,
   "id": "209ab8fa",
   "metadata": {},
   "outputs": [
    {
     "name": "stdout",
     "output_type": "stream",
     "text": [
      "['1', '2', '3', '4', '5', '6']\n",
      "['AA', 'CC', 'AA', 'GG', 'GG', 'AA']\n",
      "Enter any user name : AA\n",
      "['1', '3', '6']\n"
     ]
    }
   ],
   "source": [
    "my_dict = {'1' : 'AA','2':'CC','3':'AA','4':'GG','5':'GG','6':'AA'}\n",
    "key_list = list(my_dict.keys())\n",
    "print(key_list)\n",
    "val_list = list(my_dict.values())\n",
    "print(val_list)\n",
    "user_inp = str(input(\"Enter any user name : \"))\n",
    "l = []\n",
    "for name in my_dict.values():\n",
    "    if name == user_inp:\n",
    "        position = val_list.index(user_inp)\n",
    "        l.append(key_list[position])\n",
    "        val_list.pop(position)\n",
    "        key_list.pop(position)\n",
    "print(l)"
   ]
  },
  {
   "cell_type": "code",
   "execution_count": 43,
   "id": "b1f8b1cc",
   "metadata": {},
   "outputs": [
    {
     "name": "stdout",
     "output_type": "stream",
     "text": [
      "8\n",
      "100\n",
      "27.07733779791178\n",
      "733.1822222222221\n",
      "69.86666666666666\n",
      "[90, 100, 38, 8, 98, 76, 96, 76, 32]\n",
      "[89, 67, 67, 67, 45, 99]\n",
      "[  8  32  38  45  67  67  67  76  76  89  90  96  98  99 100]\n",
      "76.0\n",
      "67\n",
      "69.86666666666666\n",
      "1048\n",
      "success\n",
      "567352127538818210856960000\n",
      "567352127538818210856960000\n"
     ]
    }
   ],
   "source": [
    "import numpy as np\n",
    "from statistics import mode\n",
    "marks = [90,89,100,67,38,8,67,98,76,96,67,45,76,99,32]\n",
    "print(min(marks))\n",
    "print(max(marks))\n",
    "print(np.std(marks))\n",
    "print(np.var(marks))\n",
    "print(np.sum(marks)/len(marks))\n",
    "even_mark = []\n",
    "odd_mark = []\n",
    "for i in marks:\n",
    "    if i%2 == 0:\n",
    "        even_mark.append(i)\n",
    "print(even_mark)\n",
    "for i in marks:\n",
    "    if i%2 != 0:\n",
    "        odd_mark.append(i)\n",
    "print(odd_mark)\n",
    "print(np.sort(marks))\n",
    "print(np.median(marks))\n",
    "print(mode(marks))\n",
    "print(np.mean(marks))\n",
    "print(sum(marks))\n",
    "if sum(marks)%2 == 0:\n",
    "    print(\"success\")\n",
    "else:\n",
    "    print(sum(marks))\n",
    "mark_val = 1\n",
    "for mark in marks:\n",
    "    mark_val *= mark\n",
    "print(mark_val)\n",
    "print(8  *32 *  38 *  45 * 67  *67*  67*  76 * 76 * 89*  90 * 96 * 98 * 99* 100)"
   ]
  },
  {
   "cell_type": "code",
   "execution_count": null,
   "id": "0504f459",
   "metadata": {},
   "outputs": [],
   "source": []
  }
 ],
 "metadata": {
  "kernelspec": {
   "display_name": "Python 3",
   "language": "python",
   "name": "python3"
  },
  "language_info": {
   "codemirror_mode": {
    "name": "ipython",
    "version": 3
   },
   "file_extension": ".py",
   "mimetype": "text/x-python",
   "name": "python",
   "nbconvert_exporter": "python",
   "pygments_lexer": "ipython3",
   "version": "3.8.8"
  }
 },
 "nbformat": 4,
 "nbformat_minor": 5
}
