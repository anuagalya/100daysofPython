{
 "cells": [
  {
   "cell_type": "code",
   "execution_count": 1,
   "id": "9bceb42a",
   "metadata": {},
   "outputs": [
    {
     "name": "stdout",
     "output_type": "stream",
     "text": [
      "Welcome to the tip calculator!\n",
      "What was the total bill? 100\n",
      "How much tip would you like to give? 10, 12, or 15?10\n",
      "How many people to split the bill?10\n",
      "Amount to be paid by each person is 11.0$\n"
     ]
    }
   ],
   "source": [
    "print(\"Welcome to the tip calculator!\")\n",
    "bill=float(input(\"What was the total bill? \"))\n",
    "bill=round(bill,2)\n",
    "tip_per = int(input(\"How much tip would you like to give? 10, 12, or 15?\"))\n",
    "share = int(input(\"How many people to split the bill?\"))\n",
    "calc = (bill + (bill*float(tip_per))/100)/float(share)\n",
    "print(f\"Amount to be paid by each person is {calc}$\")"
   ]
  },
  {
   "cell_type": "code",
   "execution_count": null,
   "id": "6b334db2",
   "metadata": {},
   "outputs": [],
   "source": []
  }
 ],
 "metadata": {
  "kernelspec": {
   "display_name": "Python 3",
   "language": "python",
   "name": "python3"
  },
  "language_info": {
   "codemirror_mode": {
    "name": "ipython",
    "version": 3
   },
   "file_extension": ".py",
   "mimetype": "text/x-python",
   "name": "python",
   "nbconvert_exporter": "python",
   "pygments_lexer": "ipython3",
   "version": "3.8.8"
  }
 },
 "nbformat": 4,
 "nbformat_minor": 5
}
