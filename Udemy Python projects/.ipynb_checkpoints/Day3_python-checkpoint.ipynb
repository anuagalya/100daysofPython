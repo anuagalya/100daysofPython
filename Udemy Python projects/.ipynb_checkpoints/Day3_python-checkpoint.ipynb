{
 "cells": [
  {
   "cell_type": "code",
   "execution_count": 1,
   "id": "ff90b547",
   "metadata": {},
   "outputs": [
    {
     "name": "stdout",
     "output_type": "stream",
     "text": [
      "Which number do you want to check? 34\n",
      "This is an even number.\n"
     ]
    }
   ],
   "source": [
    "#odd or even\n",
    "# 🚨 Don't change the code below 👇\n",
    "number = int(input(\"Which number do you want to check? \"))\n",
    "# 🚨 Don't change the code above 👆\n",
    "\n",
    "#Write your code below this line 👇\n",
    "if number %2 ==0:\n",
    "    print(\"This is an even number.\")\n",
    "else :\n",
    "    print(\"This is an odd number.\")\n"
   ]
  },
  {
   "cell_type": "code",
   "execution_count": 2,
   "id": "913692b5",
   "metadata": {},
   "outputs": [
    {
     "name": "stdout",
     "output_type": "stream",
     "text": [
      "enter your height in m: 1.56\n",
      "enter your weight in kg: 52\n",
      "Your BMI is 21, you have a normal weight.\n"
     ]
    }
   ],
   "source": [
    "#BMI calculator\n",
    "# 🚨 Don't change the code below 👇\n",
    "height = float(input(\"enter your height in m: \"))\n",
    "weight = float(input(\"enter your weight in kg: \"))\n",
    "# 🚨 Don't change the code above 👆\n",
    "\n",
    "#Write your code below this line 👇\n",
    "BMI = round(weight / (height*height))\n",
    "if BMI < 18.5:\n",
    "    print(f\"Your BMI is {BMI}, you are underweight.\")\n",
    "elif BMI >= 18.5 and BMI <= 25:\n",
    "    print(f\"Your BMI is {BMI}, you have a normal weight.\")\n",
    "elif BMI > 25 and BMI <= 30:\n",
    "    print(f\"Your BMI is {BMI}, you are slightly overweight.\")\n",
    "elif BMI > 30 and BMI <= 35:\n",
    "    print(f\"Your BMI is {BMI}, you are obese.\")\n",
    "else:\n",
    "    print(f\"Your BMI is {BMI}, you are clinically obese.\")\n"
   ]
  },
  {
   "cell_type": "code",
   "execution_count": 4,
   "id": "d7a20219",
   "metadata": {},
   "outputs": [
    {
     "name": "stdout",
     "output_type": "stream",
     "text": [
      "Which year do you want to check? 200\n",
      "Not leap year.\n"
     ]
    }
   ],
   "source": [
    "#leap year\n",
    "# 🚨 Don't change the code below 👇\n",
    "year = int(input(\"Which year do you want to check? \"))\n",
    "# 🚨 Don't change the code above 👆\n",
    "\n",
    "#Write your code below this line 👇\n",
    "if year % 4 == 0:\n",
    "    if year%100 == 0:\n",
    "        if year%400 == 0:\n",
    "            print(\"Leap year.\")\n",
    "        else:\n",
    "            print(\"Not leap year.\")            \n",
    "    else:\n",
    "        print(\"Leap year.\")\n",
    "else:\n",
    "    print(\"Not leap year.\")"
   ]
  },
  {
   "cell_type": "code",
   "execution_count": 5,
   "id": "0db0da5b",
   "metadata": {},
   "outputs": [
    {
     "name": "stdout",
     "output_type": "stream",
     "text": [
      "Welcome to Python Pizza Deliveries!\n",
      "What size pizza do you want? S, M, or L S\n",
      "Do you want pepperoni? Y or N N\n",
      "Do you want extra cheese? Y or N Y\n",
      "Your final bill is: $16.\n"
     ]
    }
   ],
   "source": [
    "#pizza bill calc\n",
    "# 🚨 Don't change the code below 👇\n",
    "print(\"Welcome to Python Pizza Deliveries!\")\n",
    "size = input(\"What size pizza do you want? S, M, or L \")\n",
    "add_pepperoni = input(\"Do you want pepperoni? Y or N \")\n",
    "extra_cheese = input(\"Do you want extra cheese? Y or N \")\n",
    "# 🚨 Don't change the code above 👆\n",
    "\n",
    "#Write your code below this line 👇\n",
    "if size == 'S':\n",
    "    if add_pepperoni == 'Y':\n",
    "        if extra_cheese == 'Y':\n",
    "            amount = 15+2+1\n",
    "            print(\"Your final bill is: $\" + str(amount)+\".\")\n",
    "        else:\n",
    "            amount = 15+2\n",
    "            print(\"Your final bill is: $\" + str(amount)+\".\")\n",
    "    else :\n",
    "        if extra_cheese == 'Y':\n",
    "            amount = 15+1\n",
    "            print(\"Your final bill is: $\" + str(amount)+\".\")\n",
    "        else:\n",
    "            amount = 15\n",
    "            print(\"Your final bill is: $\" + str(amount)+\".\")\n",
    "elif size == 'M':\n",
    "    if add_pepperoni == 'Y':\n",
    "        if extra_cheese == 'Y':\n",
    "            amount = 20+3+1\n",
    "            print(\"Your final bill is: $\" + str(amount)+\".\")\n",
    "        else:\n",
    "            amount = 20+3\n",
    "            print(\"Your final bill is: $\" + str(amount)+\".\")\n",
    "    else :\n",
    "        if extra_cheese == 'Y':\n",
    "            amount = 20+1\n",
    "            print(\"Your final bill is: $\" + str(amount)+\".\")\n",
    "        else:\n",
    "            amount = 20\n",
    "            print(\"Your final bill is: $\" + str(amount)+\".\")\n",
    "else:\n",
    "    if add_pepperoni == 'Y':\n",
    "        if extra_cheese == 'Y':\n",
    "            amount = 25+3+1\n",
    "            print(\"Your final bill is: $\" + str(amount)+\".\")\n",
    "        else:\n",
    "            amount = 25+3\n",
    "            print(\"Your final bill is: $\" + str(amount)+\".\")\n",
    "    else :\n",
    "        if extra_cheese == 'Y':\n",
    "            amount = 25+1\n",
    "            print(\"Your final bill is: $\" + str(amount)+\".\")\n",
    "        else:\n",
    "            amount = 25\n",
    "            print(\"Your final bill is: $\" + str(amount)+\".\")"
   ]
  },
  {
   "cell_type": "code",
   "execution_count": 6,
   "id": "07238c3d",
   "metadata": {},
   "outputs": [
    {
     "name": "stdout",
     "output_type": "stream",
     "text": [
      "Welcome to the Love Calculator!\n",
      "What is your name? \n",
      "Anu Agalya\n",
      "What is their name? \n",
      "Gowtham\n",
      "Your score is 22.\n"
     ]
    }
   ],
   "source": [
    "#love calculator\n",
    "# 🚨 Don't change the code below 👇\n",
    "print(\"Welcome to the Love Calculator!\")\n",
    "name1 = input(\"What is your name? \\n\")\n",
    "name2 = input(\"What is their name? \\n\")\n",
    "# 🚨 Don't change the code above 👆\n",
    "\n",
    "#Write your code below this line 👇\n",
    "ctr1 =0\n",
    "ctr2=0\n",
    "con = name1+name2\n",
    "for i in con:\n",
    "    if ('T') in i.upper():\n",
    "        ctr1 += 1\n",
    "    if ('R') in  i.upper():\n",
    "        ctr1 += 1\n",
    "    if ('U') in i.upper():\n",
    "        ctr1 += 1\n",
    "    if ('E') in i.upper():\n",
    "        ctr1 += 1\n",
    "    if ('L') in i.upper():\n",
    "        ctr2 += 1\n",
    "    if ('O') in  i.upper():\n",
    "        ctr2 += 1\n",
    "    if ('V') in i.upper():\n",
    "        ctr2 += 1\n",
    "    if ('E') in i.upper():\n",
    "        ctr2 += 1\n",
    "score = str(ctr1)+str(ctr2)\n",
    "score = int(score)\n",
    "\n",
    "if score < 10 or score >90:\n",
    "    print(f\"Your score is {score}, you go together like coke and mentos.\")\n",
    "elif score > 40 and score <50:\n",
    "    print(f\"Your score is {score}, you are alright together.\")\n",
    "else :\n",
    "    print(f\"Your score is {score}.\")\n",
    "\n"
   ]
  },
  {
   "cell_type": "code",
   "execution_count": null,
   "id": "7ed629c5",
   "metadata": {},
   "outputs": [],
   "source": []
  }
 ],
 "metadata": {
  "kernelspec": {
   "display_name": "Python 3",
   "language": "python",
   "name": "python3"
  },
  "language_info": {
   "codemirror_mode": {
    "name": "ipython",
    "version": 3
   },
   "file_extension": ".py",
   "mimetype": "text/x-python",
   "name": "python",
   "nbconvert_exporter": "python",
   "pygments_lexer": "ipython3",
   "version": "3.8.8"
  }
 },
 "nbformat": 4,
 "nbformat_minor": 5
}
