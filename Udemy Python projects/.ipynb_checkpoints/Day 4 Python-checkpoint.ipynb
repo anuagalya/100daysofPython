{
 "cells": [
  {
   "cell_type": "code",
   "execution_count": 8,
   "id": "d7f5d908",
   "metadata": {},
   "outputs": [
    {
     "name": "stdout",
     "output_type": "stream",
     "text": [
      "1\n",
      "Heads\n"
     ]
    }
   ],
   "source": [
    "#heads or tails\n",
    "import random\n",
    "i = random.randint(0,1)\n",
    "print(i)\n",
    "if i == 1:\n",
    "    print(\"Heads\")\n",
    "else:\n",
    "    print(\"Tails\")"
   ]
  },
  {
   "cell_type": "code",
   "execution_count": 11,
   "id": "68834d62",
   "metadata": {},
   "outputs": [
    {
     "name": "stdout",
     "output_type": "stream",
     "text": [
      "4\n",
      "3\n",
      "games\n",
      "build websites\n"
     ]
    }
   ],
   "source": [
    "#split fn\n",
    "import random\n",
    "a = \"data science, automation, build websites, games\"\n",
    "listy = a.split(\", \")\n",
    "x= len(listy)\n",
    "print(x)\n",
    "y= random.randint(0,x-1)\n",
    "print(y)\n",
    "print(listy[y])\n",
    "print(random.choice(listy))"
   ]
  },
  {
   "cell_type": "code",
   "execution_count": 13,
   "id": "895869de",
   "metadata": {},
   "outputs": [
    {
     "name": "stdout",
     "output_type": "stream",
     "text": [
      "[['Strawberries', 'Nectarines', 'Apples', 'Grapes', 'Peaches', 'Cherries', 'Pears'], ['Spinach', 'Kale', 'Tomatoes', 'Celery', 'Potatoes']]\n",
      "Kale\n",
      "['Strawberries', 'Nectarines', 'Apples', 'Grapes', 'Peaches', 'Cherries', 'Pears']\n",
      "['Spinach', 'Kale', 'Tomatoes', 'Celery', 'Potatoes']\n"
     ]
    }
   ],
   "source": [
    "fruits = [\"Strawberries\", \"Nectarines\", \"Apples\", \"Grapes\", \"Peaches\", \"Cherries\", \"Pears\"]\n",
    "vegetables = [\"Spinach\", \"Kale\", \"Tomatoes\", \"Celery\", \"Potatoes\"]\n",
    " \n",
    "dirty_dozen = [fruits, vegetables]\n",
    "print(dirty_dozen) \n",
    "print(dirty_dozen[1][1])\n",
    "print(dirty_dozen[0])\n",
    "print(dirty_dozen[1])"
   ]
  },
  {
   "cell_type": "code",
   "execution_count": 14,
   "id": "f3b2960e",
   "metadata": {},
   "outputs": [
    {
     "name": "stdout",
     "output_type": "stream",
     "text": [
      "[['Strawberries', 'Nectarines', 'Apples', 'Grapes', 'Peaches', 'Cherries', 'Pears'], ['Spinach', 'Kale', 'Tomatoes', 'Celery', 'Potatoes']]\n",
      "Kale\n",
      "['Strawberries', 'Nectarines', 'Apples', 'Grapes', 'Peaches', 'Cherries', 'Pears']\n",
      "['Spinach', 'Kale', 'Tomatoes', 'Celery', 'Potatoes']\n",
      "[['Strawberries', 'Nectarines', 'Apples', 'Grapes', 'Peaches', 'Cherries', 'Pears'], ['Spinach', 'not my fav', 'Tomatoes', 'Celery', 'Potatoes']]\n"
     ]
    }
   ],
   "source": [
    "fruits = [\"Strawberries\", \"Nectarines\", \"Apples\", \"Grapes\", \"Peaches\", \"Cherries\", \"Pears\"]\n",
    "vegetables = [\"Spinach\", \"Kale\", \"Tomatoes\", \"Celery\", \"Potatoes\"]\n",
    " \n",
    "dirty_dozen = [fruits, vegetables]\n",
    "print(dirty_dozen) \n",
    "print(dirty_dozen[1][1])\n",
    "print(dirty_dozen[0])\n",
    "print(dirty_dozen[1])\n",
    "dirty_dozen[1][1] = \"not my fav\"\n",
    "print(dirty_dozen)"
   ]
  },
  {
   "cell_type": "code",
   "execution_count": 19,
   "id": "4e2c45d6",
   "metadata": {},
   "outputs": [
    {
     "name": "stdout",
     "output_type": "stream",
     "text": [
      "enter choice between 0 and 2 : 1\n",
      "1\n",
      "draw\n"
     ]
    }
   ],
   "source": [
    "#rock paper scissor\n",
    "import random\n",
    "rock = 0\n",
    "paper = 1\n",
    "scissor = 2\n",
    "user = int(input(\"enter choice between 0 and 2 : \"))\n",
    "rand = random.randint(0,2)\n",
    "print(rand)\n",
    "if user == rand:\n",
    "    print(\"draw\")\n",
    "elif user == 0 and rand == 1:\n",
    "    print(\"you lose\")\n",
    "elif user == 0 and rand == 2:\n",
    "    print(\"you win\")\n",
    "elif user == 1 and rand == 0:\n",
    "    print(\"you win\")\n",
    "elif user == 1 and rand == 2:\n",
    "    print(\"you lose\")\n",
    "elif user == 2 and rand == 0:\n",
    "    print(\"you lose\")\n",
    "elif user == 2 and rand == 1:\n",
    "    print(\"you win\")\n",
    "else:\n",
    "    print(user, rand)"
   ]
  },
  {
   "cell_type": "code",
   "execution_count": null,
   "id": "93c8ae9c",
   "metadata": {},
   "outputs": [],
   "source": []
  },
  {
   "cell_type": "code",
   "execution_count": null,
   "id": "4708bf6a",
   "metadata": {},
   "outputs": [],
   "source": []
  }
 ],
 "metadata": {
  "kernelspec": {
   "display_name": "Python 3",
   "language": "python",
   "name": "python3"
  },
  "language_info": {
   "codemirror_mode": {
    "name": "ipython",
    "version": 3
   },
   "file_extension": ".py",
   "mimetype": "text/x-python",
   "name": "python",
   "nbconvert_exporter": "python",
   "pygments_lexer": "ipython3",
   "version": "3.8.8"
  }
 },
 "nbformat": 4,
 "nbformat_minor": 5
}
