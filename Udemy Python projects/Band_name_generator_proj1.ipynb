{
 "cells": [
  {
   "cell_type": "markdown",
   "id": "00cebb6c",
   "metadata": {},
   "source": [
    "# Band name generator"
   ]
  },
  {
   "cell_type": "code",
   "execution_count": 1,
   "id": "0e3c39bc",
   "metadata": {},
   "outputs": [
    {
     "name": "stdout",
     "output_type": "stream",
     "text": [
      "Welcome to the Band Name Generator.\n",
      "What's name of the city you grew up in?\n",
      "Salem\n",
      "What's your pet's name?\n",
      "Karna\n",
      "Your band name could be Salem Karna\n"
     ]
    }
   ],
   "source": [
    "print(\"Welcome to the Band Name Generator.\")\n",
    "street = input(\"What's name of the city you grew up in?\\n\")\n",
    "pet = input(\"What's your pet's name?\\n\")\n",
    "print(\"Your band name could be \" + street + \" \" + pet)"
   ]
  },
  {
   "cell_type": "code",
   "execution_count": 1,
   "id": "ff00d39e",
   "metadata": {},
   "outputs": [
    {
     "name": "stdout",
     "output_type": "stream",
     "text": [
      "Welcome to the Band Name Generator.\n",
      "what's the name of the city you grew up in.\n",
      "aa\n",
      "what's your pet's name\n",
      "aaa\n",
      "your band name could be aa aaa\n"
     ]
    }
   ],
   "source": [
    "#band name gen\n",
    "print(\"Welcome to the Band Name Generator.\")\n",
    "grewup=input(\"what's the name of the city you grew up in.\\n\")\n",
    "pets_name = input(\"what's your pet's name\\n\")\n",
    "print(\"your band name could be \"+ grewup+\" \"+ pets_name)"
   ]
  },
  {
   "cell_type": "code",
   "execution_count": null,
   "id": "a894c86f",
   "metadata": {},
   "outputs": [],
   "source": []
  }
 ],
 "metadata": {
  "kernelspec": {
   "display_name": "Python 3",
   "language": "python",
   "name": "python3"
  },
  "language_info": {
   "codemirror_mode": {
    "name": "ipython",
    "version": 3
   },
   "file_extension": ".py",
   "mimetype": "text/x-python",
   "name": "python",
   "nbconvert_exporter": "python",
   "pygments_lexer": "ipython3",
   "version": "3.8.8"
  }
 },
 "nbformat": 4,
 "nbformat_minor": 5
}
