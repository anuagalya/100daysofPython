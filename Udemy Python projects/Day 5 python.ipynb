{
 "cells": [
  {
   "cell_type": "code",
   "execution_count": 2,
   "id": "781109ae",
   "metadata": {},
   "outputs": [
    {
     "name": "stdout",
     "output_type": "stream",
     "text": [
      "360.85714285714283\n",
      "360.85714285714283\n"
     ]
    }
   ],
   "source": [
    "#avg height of class\n",
    "height = [135,276,76,218,128,821, 872]\n",
    "h = len(height)\n",
    "s = sum(height)\n",
    "avg = float(s/h)\n",
    "print(avg)\n",
    "ctr = 0\n",
    "j = 0\n",
    "for i in height:\n",
    "    j = j+i\n",
    "    ctr += 1\n",
    "favg = j/ctr\n",
    "print(favg)"
   ]
  },
  {
   "cell_type": "code",
   "execution_count": 4,
   "id": "1c7641a8",
   "metadata": {},
   "outputs": [
    {
     "name": "stdout",
     "output_type": "stream",
     "text": [
      "872\n",
      "872\n"
     ]
    }
   ],
   "source": [
    "#max height of class\n",
    "height = [135,276,76,218,128,821, 872]\n",
    "print(max(height))\n",
    "max_val = 0\n",
    "for i in height:\n",
    "    if i>max_val:\n",
    "        max_val = i\n",
    "print(max_val)\n",
    "    "
   ]
  },
  {
   "cell_type": "code",
   "execution_count": 8,
   "id": "e19b7fb2",
   "metadata": {},
   "outputs": [
    {
     "name": "stdout",
     "output_type": "stream",
     "text": [
      "5050\n"
     ]
    }
   ],
   "source": [
    "#range\n",
    "j = 0\n",
    "for i in range(1,101):\n",
    "    j += i\n",
    "print(j)"
   ]
  },
  {
   "cell_type": "code",
   "execution_count": 9,
   "id": "154e2ad2",
   "metadata": {},
   "outputs": [
    {
     "name": "stdout",
     "output_type": "stream",
     "text": [
      "2550\n"
     ]
    }
   ],
   "source": [
    "#adding evens\n",
    "#range\n",
    "j = 0\n",
    "for i in range(0,101,2):\n",
    "    j += i\n",
    "print(j)"
   ]
  },
  {
   "cell_type": "code",
   "execution_count": 10,
   "id": "64a4f1b3",
   "metadata": {},
   "outputs": [
    {
     "name": "stdout",
     "output_type": "stream",
     "text": [
      "1\n",
      "2\n",
      "fizz\n",
      "4\n",
      "buzz\n",
      "fizz\n",
      "7\n",
      "8\n",
      "fizz\n",
      "buzz\n",
      "11\n",
      "fizz\n",
      "13\n",
      "14\n",
      "fizzbuzz\n",
      "16\n",
      "17\n",
      "fizz\n",
      "19\n",
      "buzz\n",
      "fizz\n",
      "22\n",
      "23\n",
      "fizz\n",
      "buzz\n",
      "26\n",
      "fizz\n",
      "28\n",
      "29\n",
      "fizzbuzz\n",
      "31\n",
      "32\n",
      "fizz\n",
      "34\n",
      "buzz\n",
      "fizz\n",
      "37\n",
      "38\n",
      "fizz\n",
      "buzz\n",
      "41\n",
      "fizz\n",
      "43\n",
      "44\n",
      "fizzbuzz\n",
      "46\n",
      "47\n",
      "fizz\n",
      "49\n",
      "buzz\n",
      "fizz\n",
      "52\n",
      "53\n",
      "fizz\n",
      "buzz\n",
      "56\n",
      "fizz\n",
      "58\n",
      "59\n",
      "fizzbuzz\n",
      "61\n",
      "62\n",
      "fizz\n",
      "64\n",
      "buzz\n",
      "fizz\n",
      "67\n",
      "68\n",
      "fizz\n",
      "buzz\n",
      "71\n",
      "fizz\n",
      "73\n",
      "74\n",
      "fizzbuzz\n",
      "76\n",
      "77\n",
      "fizz\n",
      "79\n",
      "buzz\n",
      "fizz\n",
      "82\n",
      "83\n",
      "fizz\n",
      "buzz\n",
      "86\n",
      "fizz\n",
      "88\n",
      "89\n",
      "fizzbuzz\n",
      "91\n",
      "92\n",
      "fizz\n",
      "94\n",
      "buzz\n",
      "fizz\n",
      "97\n",
      "98\n",
      "fizz\n",
      "buzz\n"
     ]
    }
   ],
   "source": [
    "#fizzbuzz\n",
    "for i in range(1,101):\n",
    "    if i%3 == 0 and i%5 == 0:\n",
    "        print(\"fizzbuzz\")\n",
    "    elif i%3 == 0:\n",
    "        print(\"fizz\")\n",
    "    elif i%5 == 0:\n",
    "        print(\"buzz\")\n",
    "    else:\n",
    "        print(i)"
   ]
  },
  {
   "cell_type": "code",
   "execution_count": 28,
   "id": "cb11411e",
   "metadata": {},
   "outputs": [
    {
     "name": "stdout",
     "output_type": "stream",
     "text": [
      "Enter letter count: 6\n",
      "Enter special count: 3\n",
      "Enter num count: 3\n",
      "jdgade\n",
      "jdgade##$\n",
      "jdgade##$488\n",
      "['j', 'd', 'g', 'a', 'd', 'e', '#', '#', '$', '4', '8', '8']\n",
      "['#', '8', 'g', '#', '4', 'd', '8', '$', 'a', 'd', 'e', 'j']\n",
      "#8g#4d8$adej\n"
     ]
    }
   ],
   "source": [
    "#password generator\n",
    "import random\n",
    "letter = ['a','b','c','d','e','f','g','h','i','j','k']\n",
    "special = ['!','@','#', '$', '%']\n",
    "numbers = [1,2,3,4,5,6,7,8,9,0]\n",
    "pwd = \"\"\n",
    "letc = int(input(\"Enter letter count: \"))\n",
    "spec = int(input(\"Enter special count: \"))\n",
    "numc = int(input(\"Enter num count: \"))\n",
    "for i in range(0,letc):\n",
    "    let = random.choice(letter)\n",
    "    pwd = pwd+let\n",
    "print(pwd)\n",
    "for i in range(0,spec):\n",
    "    spe = random.choice(special)\n",
    "    pwd = pwd+spe\n",
    "print(pwd)\n",
    "for i in range(0,numc):\n",
    "    num = random.choice(numbers)\n",
    "    pwd = pwd+str(num)\n",
    "print(pwd)\n",
    "l=[]\n",
    "for i in pwd:\n",
    "    l.append(i)\n",
    "print(l)\n",
    "random.shuffle(l)\n",
    "print(l)\n",
    "new_pwd = \"\"\n",
    "for i in l:\n",
    "    new_pwd += i\n",
    "print(new_pwd)"
   ]
  },
  {
   "cell_type": "code",
   "execution_count": null,
   "id": "6fc13c81",
   "metadata": {},
   "outputs": [],
   "source": []
  }
 ],
 "metadata": {
  "kernelspec": {
   "display_name": "Python 3",
   "language": "python",
   "name": "python3"
  },
  "language_info": {
   "codemirror_mode": {
    "name": "ipython",
    "version": 3
   },
   "file_extension": ".py",
   "mimetype": "text/x-python",
   "name": "python",
   "nbconvert_exporter": "python",
   "pygments_lexer": "ipython3",
   "version": "3.8.8"
  }
 },
 "nbformat": 4,
 "nbformat_minor": 5
}
